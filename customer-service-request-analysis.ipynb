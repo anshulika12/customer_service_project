{
 "cells": [
  {
   "cell_type": "code",
   "execution_count": 1,
   "id": "7be6a901",
   "metadata": {
    "execution": {
     "iopub.execute_input": "2023-06-01T16:16:00.756152Z",
     "iopub.status.busy": "2023-06-01T16:16:00.752008Z",
     "iopub.status.idle": "2023-06-01T16:16:01.800065Z",
     "shell.execute_reply": "2023-06-01T16:16:01.799143Z",
     "shell.execute_reply.started": "2021-07-21T08:48:33.141528Z"
    },
    "papermill": {
     "duration": 1.115,
     "end_time": "2023-06-01T16:16:01.800303",
     "exception": false,
     "start_time": "2023-06-01T16:16:00.685303",
     "status": "completed"
    },
    "tags": []
   },
   "outputs": [],
   "source": [
    "import numpy as np\n",
    "import pandas as pd\n",
    "import matplotlib.pyplot as plt\n",
    "import seaborn as sns"
   ]
  },
  {
   "cell_type": "code",
   "execution_count": 2,
   "id": "96734d7f",
   "metadata": {
    "execution": {
     "iopub.execute_input": "2023-06-01T16:16:01.917860Z",
     "iopub.status.busy": "2023-06-01T16:16:01.916931Z",
     "iopub.status.idle": "2023-06-01T16:16:09.544216Z",
     "shell.execute_reply": "2023-06-01T16:16:09.543493Z",
     "shell.execute_reply.started": "2021-07-21T08:48:34.1771Z"
    },
    "papermill": {
     "duration": 7.687812,
     "end_time": "2023-06-01T16:16:09.544396",
     "exception": false,
     "start_time": "2023-06-01T16:16:01.856584",
     "status": "completed"
    },
    "tags": []
   },
   "outputs": [
    {
     "name": "stderr",
     "output_type": "stream",
     "text": [
      "/opt/conda/lib/python3.7/site-packages/IPython/core/interactiveshell.py:3170: DtypeWarning: Columns (48,49) have mixed types.Specify dtype option on import or set low_memory=False.\n",
      "  interactivity=interactivity, compiler=compiler, result=result)\n"
     ]
    }
   ],
   "source": [
    "# Task 1: Import a 311 NYC service request\n",
    "data=pd.read_csv(\"../input/nyc-311-customer-service-requests-analysis/NYC311data.csv\")"
   ]
  },
  {
   "cell_type": "code",
   "execution_count": 3,
   "id": "0c90c5f9",
   "metadata": {
    "execution": {
     "iopub.execute_input": "2023-06-01T16:16:09.666805Z",
     "iopub.status.busy": "2023-06-01T16:16:09.665982Z",
     "iopub.status.idle": "2023-06-01T16:16:09.717918Z",
     "shell.execute_reply": "2023-06-01T16:16:09.717213Z",
     "shell.execute_reply.started": "2021-07-21T08:48:40.368984Z"
    },
    "papermill": {
     "duration": 0.111456,
     "end_time": "2023-06-01T16:16:09.718077",
     "exception": false,
     "start_time": "2023-06-01T16:16:09.606621",
     "status": "completed"
    },
    "tags": []
   },
   "outputs": [
    {
     "data": {
      "text/html": [
       "<div>\n",
       "<style scoped>\n",
       "    .dataframe tbody tr th:only-of-type {\n",
       "        vertical-align: middle;\n",
       "    }\n",
       "\n",
       "    .dataframe tbody tr th {\n",
       "        vertical-align: top;\n",
       "    }\n",
       "\n",
       "    .dataframe thead th {\n",
       "        text-align: right;\n",
       "    }\n",
       "</style>\n",
       "<table border=\"1\" class=\"dataframe\">\n",
       "  <thead>\n",
       "    <tr style=\"text-align: right;\">\n",
       "      <th></th>\n",
       "      <th>Unique Key</th>\n",
       "      <th>Created Date</th>\n",
       "      <th>Closed Date</th>\n",
       "      <th>Agency</th>\n",
       "      <th>Agency Name</th>\n",
       "      <th>Complaint Type</th>\n",
       "      <th>Descriptor</th>\n",
       "      <th>Location Type</th>\n",
       "      <th>Incident Zip</th>\n",
       "      <th>Incident Address</th>\n",
       "      <th>...</th>\n",
       "      <th>Bridge Highway Name</th>\n",
       "      <th>Bridge Highway Direction</th>\n",
       "      <th>Road Ramp</th>\n",
       "      <th>Bridge Highway Segment</th>\n",
       "      <th>Garage Lot Name</th>\n",
       "      <th>Ferry Direction</th>\n",
       "      <th>Ferry Terminal Name</th>\n",
       "      <th>Latitude</th>\n",
       "      <th>Longitude</th>\n",
       "      <th>Location</th>\n",
       "    </tr>\n",
       "  </thead>\n",
       "  <tbody>\n",
       "    <tr>\n",
       "      <th>0</th>\n",
       "      <td>32310363</td>\n",
       "      <td>12/31/2015 11:59:45 PM</td>\n",
       "      <td>01-01-16 0:55</td>\n",
       "      <td>NYPD</td>\n",
       "      <td>New York City Police Department</td>\n",
       "      <td>Noise - Street/Sidewalk</td>\n",
       "      <td>Loud Music/Party</td>\n",
       "      <td>Street/Sidewalk</td>\n",
       "      <td>10034.0</td>\n",
       "      <td>71 VERMILYEA AVENUE</td>\n",
       "      <td>...</td>\n",
       "      <td>NaN</td>\n",
       "      <td>NaN</td>\n",
       "      <td>NaN</td>\n",
       "      <td>NaN</td>\n",
       "      <td>NaN</td>\n",
       "      <td>NaN</td>\n",
       "      <td>NaN</td>\n",
       "      <td>40.865682</td>\n",
       "      <td>-73.923501</td>\n",
       "      <td>(40.86568153633767, -73.92350095571744)</td>\n",
       "    </tr>\n",
       "    <tr>\n",
       "      <th>1</th>\n",
       "      <td>32309934</td>\n",
       "      <td>12/31/2015 11:59:44 PM</td>\n",
       "      <td>01-01-16 1:26</td>\n",
       "      <td>NYPD</td>\n",
       "      <td>New York City Police Department</td>\n",
       "      <td>Blocked Driveway</td>\n",
       "      <td>No Access</td>\n",
       "      <td>Street/Sidewalk</td>\n",
       "      <td>11105.0</td>\n",
       "      <td>27-07 23 AVENUE</td>\n",
       "      <td>...</td>\n",
       "      <td>NaN</td>\n",
       "      <td>NaN</td>\n",
       "      <td>NaN</td>\n",
       "      <td>NaN</td>\n",
       "      <td>NaN</td>\n",
       "      <td>NaN</td>\n",
       "      <td>NaN</td>\n",
       "      <td>40.775945</td>\n",
       "      <td>-73.915094</td>\n",
       "      <td>(40.775945312321085, -73.91509393898605)</td>\n",
       "    </tr>\n",
       "    <tr>\n",
       "      <th>2</th>\n",
       "      <td>32309159</td>\n",
       "      <td>12/31/2015 11:59:29 PM</td>\n",
       "      <td>01-01-16 4:51</td>\n",
       "      <td>NYPD</td>\n",
       "      <td>New York City Police Department</td>\n",
       "      <td>Blocked Driveway</td>\n",
       "      <td>No Access</td>\n",
       "      <td>Street/Sidewalk</td>\n",
       "      <td>10458.0</td>\n",
       "      <td>2897 VALENTINE AVENUE</td>\n",
       "      <td>...</td>\n",
       "      <td>NaN</td>\n",
       "      <td>NaN</td>\n",
       "      <td>NaN</td>\n",
       "      <td>NaN</td>\n",
       "      <td>NaN</td>\n",
       "      <td>NaN</td>\n",
       "      <td>NaN</td>\n",
       "      <td>40.870325</td>\n",
       "      <td>-73.888525</td>\n",
       "      <td>(40.870324522111424, -73.88852464418646)</td>\n",
       "    </tr>\n",
       "    <tr>\n",
       "      <th>3</th>\n",
       "      <td>32305098</td>\n",
       "      <td>12/31/2015 11:57:46 PM</td>\n",
       "      <td>01-01-16 7:43</td>\n",
       "      <td>NYPD</td>\n",
       "      <td>New York City Police Department</td>\n",
       "      <td>Illegal Parking</td>\n",
       "      <td>Commercial Overnight Parking</td>\n",
       "      <td>Street/Sidewalk</td>\n",
       "      <td>10461.0</td>\n",
       "      <td>2940 BAISLEY AVENUE</td>\n",
       "      <td>...</td>\n",
       "      <td>NaN</td>\n",
       "      <td>NaN</td>\n",
       "      <td>NaN</td>\n",
       "      <td>NaN</td>\n",
       "      <td>NaN</td>\n",
       "      <td>NaN</td>\n",
       "      <td>NaN</td>\n",
       "      <td>40.835994</td>\n",
       "      <td>-73.828379</td>\n",
       "      <td>(40.83599404683083, -73.82837939584206)</td>\n",
       "    </tr>\n",
       "    <tr>\n",
       "      <th>4</th>\n",
       "      <td>32306529</td>\n",
       "      <td>12/31/2015 11:56:58 PM</td>\n",
       "      <td>01-01-16 3:24</td>\n",
       "      <td>NYPD</td>\n",
       "      <td>New York City Police Department</td>\n",
       "      <td>Illegal Parking</td>\n",
       "      <td>Blocked Sidewalk</td>\n",
       "      <td>Street/Sidewalk</td>\n",
       "      <td>11373.0</td>\n",
       "      <td>87-14 57 ROAD</td>\n",
       "      <td>...</td>\n",
       "      <td>NaN</td>\n",
       "      <td>NaN</td>\n",
       "      <td>NaN</td>\n",
       "      <td>NaN</td>\n",
       "      <td>NaN</td>\n",
       "      <td>NaN</td>\n",
       "      <td>NaN</td>\n",
       "      <td>40.733060</td>\n",
       "      <td>-73.874170</td>\n",
       "      <td>(40.733059618956815, -73.87416975810375)</td>\n",
       "    </tr>\n",
       "  </tbody>\n",
       "</table>\n",
       "<p>5 rows × 53 columns</p>\n",
       "</div>"
      ],
      "text/plain": [
       "   Unique Key            Created Date    Closed Date Agency  \\\n",
       "0    32310363  12/31/2015 11:59:45 PM  01-01-16 0:55   NYPD   \n",
       "1    32309934  12/31/2015 11:59:44 PM  01-01-16 1:26   NYPD   \n",
       "2    32309159  12/31/2015 11:59:29 PM  01-01-16 4:51   NYPD   \n",
       "3    32305098  12/31/2015 11:57:46 PM  01-01-16 7:43   NYPD   \n",
       "4    32306529  12/31/2015 11:56:58 PM  01-01-16 3:24   NYPD   \n",
       "\n",
       "                       Agency Name           Complaint Type  \\\n",
       "0  New York City Police Department  Noise - Street/Sidewalk   \n",
       "1  New York City Police Department         Blocked Driveway   \n",
       "2  New York City Police Department         Blocked Driveway   \n",
       "3  New York City Police Department          Illegal Parking   \n",
       "4  New York City Police Department          Illegal Parking   \n",
       "\n",
       "                     Descriptor    Location Type  Incident Zip  \\\n",
       "0              Loud Music/Party  Street/Sidewalk       10034.0   \n",
       "1                     No Access  Street/Sidewalk       11105.0   \n",
       "2                     No Access  Street/Sidewalk       10458.0   \n",
       "3  Commercial Overnight Parking  Street/Sidewalk       10461.0   \n",
       "4              Blocked Sidewalk  Street/Sidewalk       11373.0   \n",
       "\n",
       "        Incident Address  ... Bridge Highway Name Bridge Highway Direction  \\\n",
       "0    71 VERMILYEA AVENUE  ...                 NaN                      NaN   \n",
       "1        27-07 23 AVENUE  ...                 NaN                      NaN   \n",
       "2  2897 VALENTINE AVENUE  ...                 NaN                      NaN   \n",
       "3    2940 BAISLEY AVENUE  ...                 NaN                      NaN   \n",
       "4          87-14 57 ROAD  ...                 NaN                      NaN   \n",
       "\n",
       "  Road Ramp Bridge Highway Segment Garage Lot Name Ferry Direction  \\\n",
       "0       NaN                    NaN             NaN             NaN   \n",
       "1       NaN                    NaN             NaN             NaN   \n",
       "2       NaN                    NaN             NaN             NaN   \n",
       "3       NaN                    NaN             NaN             NaN   \n",
       "4       NaN                    NaN             NaN             NaN   \n",
       "\n",
       "  Ferry Terminal Name   Latitude  Longitude  \\\n",
       "0                 NaN  40.865682 -73.923501   \n",
       "1                 NaN  40.775945 -73.915094   \n",
       "2                 NaN  40.870325 -73.888525   \n",
       "3                 NaN  40.835994 -73.828379   \n",
       "4                 NaN  40.733060 -73.874170   \n",
       "\n",
       "                                   Location  \n",
       "0   (40.86568153633767, -73.92350095571744)  \n",
       "1  (40.775945312321085, -73.91509393898605)  \n",
       "2  (40.870324522111424, -73.88852464418646)  \n",
       "3   (40.83599404683083, -73.82837939584206)  \n",
       "4  (40.733059618956815, -73.87416975810375)  \n",
       "\n",
       "[5 rows x 53 columns]"
      ]
     },
     "execution_count": 3,
     "metadata": {},
     "output_type": "execute_result"
    }
   ],
   "source": [
    "data.head()"
   ]
  },
  {
   "cell_type": "code",
   "execution_count": 4,
   "id": "9f1f0fbf",
   "metadata": {
    "execution": {
     "iopub.execute_input": "2023-06-01T16:16:09.841335Z",
     "iopub.status.busy": "2023-06-01T16:16:09.840575Z",
     "iopub.status.idle": "2023-06-01T16:16:09.844811Z",
     "shell.execute_reply": "2023-06-01T16:16:09.845358Z",
     "shell.execute_reply.started": "2021-07-21T08:48:40.425002Z"
    },
    "papermill": {
     "duration": 0.068629,
     "end_time": "2023-06-01T16:16:09.845562",
     "exception": false,
     "start_time": "2023-06-01T16:16:09.776933",
     "status": "completed"
    },
    "tags": []
   },
   "outputs": [
    {
     "data": {
      "text/plain": [
       "Index(['Unique Key', 'Created Date', 'Closed Date', 'Agency', 'Agency Name',\n",
       "       'Complaint Type', 'Descriptor', 'Location Type', 'Incident Zip',\n",
       "       'Incident Address', 'Street Name', 'Cross Street 1', 'Cross Street 2',\n",
       "       'Intersection Street 1', 'Intersection Street 2', 'Address Type',\n",
       "       'City', 'Landmark', 'Facility Type', 'Status', 'Due Date',\n",
       "       'Resolution Description', 'Resolution Action Updated Date',\n",
       "       'Community Board', 'Borough', 'X Coordinate (State Plane)',\n",
       "       'Y Coordinate (State Plane)', 'Park Facility Name', 'Park Borough',\n",
       "       'School Name', 'School Number', 'School Region', 'School Code',\n",
       "       'School Phone Number', 'School Address', 'School City', 'School State',\n",
       "       'School Zip', 'School Not Found', 'School or Citywide Complaint',\n",
       "       'Vehicle Type', 'Taxi Company Borough', 'Taxi Pick Up Location',\n",
       "       'Bridge Highway Name', 'Bridge Highway Direction', 'Road Ramp',\n",
       "       'Bridge Highway Segment', 'Garage Lot Name', 'Ferry Direction',\n",
       "       'Ferry Terminal Name', 'Latitude', 'Longitude', 'Location'],\n",
       "      dtype='object')"
      ]
     },
     "execution_count": 4,
     "metadata": {},
     "output_type": "execute_result"
    }
   ],
   "source": [
    "data.columns"
   ]
  },
  {
   "cell_type": "code",
   "execution_count": 5,
   "id": "f22dab2f",
   "metadata": {
    "execution": {
     "iopub.execute_input": "2023-06-01T16:16:09.966493Z",
     "iopub.status.busy": "2023-06-01T16:16:09.965709Z",
     "iopub.status.idle": "2023-06-01T16:16:11.133973Z",
     "shell.execute_reply": "2023-06-01T16:16:11.133212Z"
    },
    "papermill": {
     "duration": 1.23116,
     "end_time": "2023-06-01T16:16:11.134163",
     "exception": false,
     "start_time": "2023-06-01T16:16:09.903003",
     "status": "completed"
    },
    "tags": []
   },
   "outputs": [
    {
     "name": "stdout",
     "output_type": "stream",
     "text": [
      "<class 'pandas.core.frame.DataFrame'>\n",
      "RangeIndex: 300698 entries, 0 to 300697\n",
      "Data columns (total 53 columns):\n",
      " #   Column                          Non-Null Count   Dtype  \n",
      "---  ------                          --------------   -----  \n",
      " 0   Unique Key                      300698 non-null  int64  \n",
      " 1   Created Date                    300698 non-null  object \n",
      " 2   Closed Date                     298534 non-null  object \n",
      " 3   Agency                          300698 non-null  object \n",
      " 4   Agency Name                     300698 non-null  object \n",
      " 5   Complaint Type                  300698 non-null  object \n",
      " 6   Descriptor                      294784 non-null  object \n",
      " 7   Location Type                   300567 non-null  object \n",
      " 8   Incident Zip                    298083 non-null  float64\n",
      " 9   Incident Address                256288 non-null  object \n",
      " 10  Street Name                     256288 non-null  object \n",
      " 11  Cross Street 1                  251419 non-null  object \n",
      " 12  Cross Street 2                  250919 non-null  object \n",
      " 13  Intersection Street 1           43858 non-null   object \n",
      " 14  Intersection Street 2           43362 non-null   object \n",
      " 15  Address Type                    297883 non-null  object \n",
      " 16  City                            298084 non-null  object \n",
      " 17  Landmark                        349 non-null     object \n",
      " 18  Facility Type                   298527 non-null  object \n",
      " 19  Status                          300698 non-null  object \n",
      " 20  Due Date                        300695 non-null  object \n",
      " 21  Resolution Description          300698 non-null  object \n",
      " 22  Resolution Action Updated Date  298511 non-null  object \n",
      " 23  Community Board                 300698 non-null  object \n",
      " 24  Borough                         300698 non-null  object \n",
      " 25  X Coordinate (State Plane)      297158 non-null  float64\n",
      " 26  Y Coordinate (State Plane)      297158 non-null  float64\n",
      " 27  Park Facility Name              300698 non-null  object \n",
      " 28  Park Borough                    300698 non-null  object \n",
      " 29  School Name                     300698 non-null  object \n",
      " 30  School Number                   300698 non-null  object \n",
      " 31  School Region                   300697 non-null  object \n",
      " 32  School Code                     300697 non-null  object \n",
      " 33  School Phone Number             300698 non-null  object \n",
      " 34  School Address                  300698 non-null  object \n",
      " 35  School City                     300698 non-null  object \n",
      " 36  School State                    300698 non-null  object \n",
      " 37  School Zip                      300697 non-null  object \n",
      " 38  School Not Found                300698 non-null  object \n",
      " 39  School or Citywide Complaint    0 non-null       float64\n",
      " 40  Vehicle Type                    0 non-null       float64\n",
      " 41  Taxi Company Borough            0 non-null       float64\n",
      " 42  Taxi Pick Up Location           0 non-null       float64\n",
      " 43  Bridge Highway Name             243 non-null     object \n",
      " 44  Bridge Highway Direction        243 non-null     object \n",
      " 45  Road Ramp                       213 non-null     object \n",
      " 46  Bridge Highway Segment          213 non-null     object \n",
      " 47  Garage Lot Name                 0 non-null       float64\n",
      " 48  Ferry Direction                 1 non-null       object \n",
      " 49  Ferry Terminal Name             2 non-null       object \n",
      " 50  Latitude                        297158 non-null  float64\n",
      " 51  Longitude                       297158 non-null  float64\n",
      " 52  Location                        297158 non-null  object \n",
      "dtypes: float64(10), int64(1), object(42)\n",
      "memory usage: 121.6+ MB\n"
     ]
    }
   ],
   "source": [
    "data.info()"
   ]
  },
  {
   "cell_type": "code",
   "execution_count": 6,
   "id": "110a5e82",
   "metadata": {
    "execution": {
     "iopub.execute_input": "2023-06-01T16:16:11.258660Z",
     "iopub.status.busy": "2023-06-01T16:16:11.257676Z",
     "iopub.status.idle": "2023-06-01T16:16:12.393666Z",
     "shell.execute_reply": "2023-06-01T16:16:12.392950Z",
     "shell.execute_reply.started": "2021-07-21T08:48:40.433157Z"
    },
    "papermill": {
     "duration": 1.201098,
     "end_time": "2023-06-01T16:16:12.393845",
     "exception": false,
     "start_time": "2023-06-01T16:16:11.192747",
     "status": "completed"
    },
    "tags": []
   },
   "outputs": [
    {
     "data": {
      "text/plain": [
       "Unique Key                             0\n",
       "Created Date                           0\n",
       "Closed Date                         2164\n",
       "Agency                                 0\n",
       "Agency Name                            0\n",
       "Complaint Type                         0\n",
       "Descriptor                          5914\n",
       "Location Type                        131\n",
       "Incident Zip                        2615\n",
       "Incident Address                   44410\n",
       "Street Name                        44410\n",
       "Cross Street 1                     49279\n",
       "Cross Street 2                     49779\n",
       "Intersection Street 1             256840\n",
       "Intersection Street 2             257336\n",
       "Address Type                        2815\n",
       "City                                2614\n",
       "Landmark                          300349\n",
       "Facility Type                       2171\n",
       "Status                                 0\n",
       "Due Date                               3\n",
       "Resolution Description                 0\n",
       "Resolution Action Updated Date      2187\n",
       "Community Board                        0\n",
       "Borough                                0\n",
       "X Coordinate (State Plane)          3540\n",
       "Y Coordinate (State Plane)          3540\n",
       "Park Facility Name                     0\n",
       "Park Borough                           0\n",
       "School Name                            0\n",
       "School Number                          0\n",
       "School Region                          1\n",
       "School Code                            1\n",
       "School Phone Number                    0\n",
       "School Address                         0\n",
       "School City                            0\n",
       "School State                           0\n",
       "School Zip                             1\n",
       "School Not Found                       0\n",
       "School or Citywide Complaint      300698\n",
       "Vehicle Type                      300698\n",
       "Taxi Company Borough              300698\n",
       "Taxi Pick Up Location             300698\n",
       "Bridge Highway Name               300455\n",
       "Bridge Highway Direction          300455\n",
       "Road Ramp                         300485\n",
       "Bridge Highway Segment            300485\n",
       "Garage Lot Name                   300698\n",
       "Ferry Direction                   300697\n",
       "Ferry Terminal Name               300696\n",
       "Latitude                            3540\n",
       "Longitude                           3540\n",
       "Location                            3540\n",
       "dtype: int64"
      ]
     },
     "execution_count": 6,
     "metadata": {},
     "output_type": "execute_result"
    }
   ],
   "source": [
    "data.isna().sum()"
   ]
  },
  {
   "cell_type": "code",
   "execution_count": 7,
   "id": "e5cb41ce",
   "metadata": {
    "execution": {
     "iopub.execute_input": "2023-06-01T16:16:12.565744Z",
     "iopub.status.busy": "2023-06-01T16:16:12.564954Z",
     "iopub.status.idle": "2023-06-01T16:16:12.594338Z",
     "shell.execute_reply": "2023-06-01T16:16:12.593695Z",
     "shell.execute_reply.started": "2021-07-21T08:48:41.520974Z"
    },
    "papermill": {
     "duration": 0.14189,
     "end_time": "2023-06-01T16:16:12.594511",
     "exception": false,
     "start_time": "2023-06-01T16:16:12.452621",
     "status": "completed"
    },
    "tags": []
   },
   "outputs": [
    {
     "data": {
      "text/html": [
       "<div>\n",
       "<style scoped>\n",
       "    .dataframe tbody tr th:only-of-type {\n",
       "        vertical-align: middle;\n",
       "    }\n",
       "\n",
       "    .dataframe tbody tr th {\n",
       "        vertical-align: top;\n",
       "    }\n",
       "\n",
       "    .dataframe thead th {\n",
       "        text-align: right;\n",
       "    }\n",
       "</style>\n",
       "<table border=\"1\" class=\"dataframe\">\n",
       "  <thead>\n",
       "    <tr style=\"text-align: right;\">\n",
       "      <th></th>\n",
       "      <th>Unique Key</th>\n",
       "      <th>Created Date</th>\n",
       "      <th>Closed Date</th>\n",
       "      <th>Agency</th>\n",
       "      <th>Agency Name</th>\n",
       "      <th>Complaint Type</th>\n",
       "      <th>Descriptor</th>\n",
       "      <th>Location Type</th>\n",
       "      <th>Incident Zip</th>\n",
       "      <th>Incident Address</th>\n",
       "      <th>...</th>\n",
       "      <th>Bridge Highway Name</th>\n",
       "      <th>Bridge Highway Direction</th>\n",
       "      <th>Road Ramp</th>\n",
       "      <th>Bridge Highway Segment</th>\n",
       "      <th>Garage Lot Name</th>\n",
       "      <th>Ferry Direction</th>\n",
       "      <th>Ferry Terminal Name</th>\n",
       "      <th>Latitude</th>\n",
       "      <th>Longitude</th>\n",
       "      <th>Location</th>\n",
       "    </tr>\n",
       "  </thead>\n",
       "  <tbody>\n",
       "    <tr>\n",
       "      <th>283132</th>\n",
       "      <td>30427220</td>\n",
       "      <td>04/18/2015 09:44:55 AM</td>\n",
       "      <td>05-02-15 10:35</td>\n",
       "      <td>NYPD</td>\n",
       "      <td>New York City Police Department</td>\n",
       "      <td>Animal in a Park</td>\n",
       "      <td>Animal Waste</td>\n",
       "      <td>Park</td>\n",
       "      <td>NaN</td>\n",
       "      <td>NaN</td>\n",
       "      <td>...</td>\n",
       "      <td>NaN</td>\n",
       "      <td>NaN</td>\n",
       "      <td>NaN</td>\n",
       "      <td>NaN</td>\n",
       "      <td>NaN</td>\n",
       "      <td>NaN</td>\n",
       "      <td>NaN</td>\n",
       "      <td>NaN</td>\n",
       "      <td>NaN</td>\n",
       "      <td>NaN</td>\n",
       "    </tr>\n",
       "  </tbody>\n",
       "</table>\n",
       "<p>1 rows × 53 columns</p>\n",
       "</div>"
      ],
      "text/plain": [
       "        Unique Key            Created Date     Closed Date Agency  \\\n",
       "283132    30427220  04/18/2015 09:44:55 AM  05-02-15 10:35   NYPD   \n",
       "\n",
       "                            Agency Name    Complaint Type    Descriptor  \\\n",
       "283132  New York City Police Department  Animal in a Park  Animal Waste   \n",
       "\n",
       "       Location Type  Incident Zip Incident Address  ... Bridge Highway Name  \\\n",
       "283132          Park           NaN              NaN  ...                 NaN   \n",
       "\n",
       "       Bridge Highway Direction Road Ramp Bridge Highway Segment  \\\n",
       "283132                      NaN       NaN                    NaN   \n",
       "\n",
       "       Garage Lot Name Ferry Direction Ferry Terminal Name Latitude Longitude  \\\n",
       "283132             NaN             NaN                 NaN      NaN       NaN   \n",
       "\n",
       "       Location  \n",
       "283132      NaN  \n",
       "\n",
       "[1 rows x 53 columns]"
      ]
     },
     "execution_count": 7,
     "metadata": {},
     "output_type": "execute_result"
    }
   ],
   "source": [
    "data[data['Complaint Type']=='Animal in a Park']"
   ]
  },
  {
   "cell_type": "code",
   "execution_count": 8,
   "id": "faf5e97f",
   "metadata": {
    "execution": {
     "iopub.execute_input": "2023-06-01T16:16:12.718171Z",
     "iopub.status.busy": "2023-06-01T16:16:12.717460Z",
     "iopub.status.idle": "2023-06-01T16:16:12.936151Z",
     "shell.execute_reply": "2023-06-01T16:16:12.935389Z",
     "shell.execute_reply.started": "2021-07-21T08:48:41.596854Z"
    },
    "papermill": {
     "duration": 0.282541,
     "end_time": "2023-06-01T16:16:12.936316",
     "exception": false,
     "start_time": "2023-06-01T16:16:12.653775",
     "status": "completed"
    },
    "tags": []
   },
   "outputs": [],
   "source": [
    "data.drop(labels=283132, axis=0, inplace=True)"
   ]
  },
  {
   "cell_type": "code",
   "execution_count": 9,
   "id": "58a7b637",
   "metadata": {
    "execution": {
     "iopub.execute_input": "2023-06-01T16:16:13.061341Z",
     "iopub.status.busy": "2023-06-01T16:16:13.060538Z",
     "iopub.status.idle": "2023-06-01T16:16:13.063567Z",
     "shell.execute_reply": "2023-06-01T16:16:13.064117Z",
     "shell.execute_reply.started": "2021-07-21T08:48:41.748531Z"
    },
    "papermill": {
     "duration": 0.067864,
     "end_time": "2023-06-01T16:16:13.064328",
     "exception": false,
     "start_time": "2023-06-01T16:16:12.996464",
     "status": "completed"
    },
    "tags": []
   },
   "outputs": [],
   "source": [
    "# Task 2: Read or convert the columns ‘Created Date’ and Closed Date’ to datetime datatype and create a new column ‘Request_Closing_Time’ \n",
    "#as the time elapsed between request creation and request closing."
   ]
  },
  {
   "cell_type": "code",
   "execution_count": 10,
   "id": "5d8fd481",
   "metadata": {
    "execution": {
     "iopub.execute_input": "2023-06-01T16:16:13.196513Z",
     "iopub.status.busy": "2023-06-01T16:16:13.195416Z",
     "iopub.status.idle": "2023-06-01T16:16:56.254416Z",
     "shell.execute_reply": "2023-06-01T16:16:56.253593Z",
     "shell.execute_reply.started": "2021-07-21T08:48:41.754713Z"
    },
    "papermill": {
     "duration": 43.129792,
     "end_time": "2023-06-01T16:16:56.254596",
     "exception": false,
     "start_time": "2023-06-01T16:16:13.124804",
     "status": "completed"
    },
    "tags": []
   },
   "outputs": [],
   "source": [
    "data['Created Date']= pd.to_datetime(data['Created Date'])"
   ]
  },
  {
   "cell_type": "code",
   "execution_count": 11,
   "id": "d4cd9889",
   "metadata": {
    "execution": {
     "iopub.execute_input": "2023-06-01T16:16:56.409328Z",
     "iopub.status.busy": "2023-06-01T16:16:56.382459Z",
     "iopub.status.idle": "2023-06-01T16:17:38.741288Z",
     "shell.execute_reply": "2023-06-01T16:17:38.740533Z",
     "shell.execute_reply.started": "2021-07-21T08:49:15.993399Z"
    },
    "papermill": {
     "duration": 42.427213,
     "end_time": "2023-06-01T16:17:38.741482",
     "exception": false,
     "start_time": "2023-06-01T16:16:56.314269",
     "status": "completed"
    },
    "tags": []
   },
   "outputs": [],
   "source": [
    "data['Closed Date']= pd.to_datetime(data['Closed Date'])"
   ]
  },
  {
   "cell_type": "code",
   "execution_count": 12,
   "id": "9d8167d7",
   "metadata": {
    "execution": {
     "iopub.execute_input": "2023-06-01T16:17:38.867952Z",
     "iopub.status.busy": "2023-06-01T16:17:38.866873Z",
     "iopub.status.idle": "2023-06-01T16:17:38.874648Z",
     "shell.execute_reply": "2023-06-01T16:17:38.875211Z",
     "shell.execute_reply.started": "2021-07-21T08:49:50.815247Z"
    },
    "papermill": {
     "duration": 0.072215,
     "end_time": "2023-06-01T16:17:38.875422",
     "exception": false,
     "start_time": "2023-06-01T16:17:38.803207",
     "status": "completed"
    },
    "tags": []
   },
   "outputs": [],
   "source": [
    "data['Request_Closing_Time']= data['Closed Date'].values-data['Created Date'].values"
   ]
  },
  {
   "cell_type": "code",
   "execution_count": 13,
   "id": "3445d99c",
   "metadata": {
    "execution": {
     "iopub.execute_input": "2023-06-01T16:17:39.005263Z",
     "iopub.status.busy": "2023-06-01T16:17:39.004498Z",
     "iopub.status.idle": "2023-06-01T16:17:39.010239Z",
     "shell.execute_reply": "2023-06-01T16:17:39.009554Z",
     "shell.execute_reply.started": "2021-07-21T08:49:50.8232Z"
    },
    "papermill": {
     "duration": 0.07325,
     "end_time": "2023-06-01T16:17:39.010405",
     "exception": false,
     "start_time": "2023-06-01T16:17:38.937155",
     "status": "completed"
    },
    "tags": []
   },
   "outputs": [],
   "source": [
    "data['Request_Closing_Time_mins'] = data['Request_Closing_Time']/np.timedelta64(1,'m')"
   ]
  },
  {
   "cell_type": "code",
   "execution_count": 14,
   "id": "77208786",
   "metadata": {
    "execution": {
     "iopub.execute_input": "2023-06-01T16:17:39.135010Z",
     "iopub.status.busy": "2023-06-01T16:17:39.133950Z",
     "iopub.status.idle": "2023-06-01T16:17:39.172077Z",
     "shell.execute_reply": "2023-06-01T16:17:39.173319Z",
     "shell.execute_reply.started": "2021-07-21T08:49:50.840427Z"
    },
    "papermill": {
     "duration": 0.103862,
     "end_time": "2023-06-01T16:17:39.173602",
     "exception": false,
     "start_time": "2023-06-01T16:17:39.069740",
     "status": "completed"
    },
    "tags": []
   },
   "outputs": [
    {
     "data": {
      "text/html": [
       "<div>\n",
       "<style scoped>\n",
       "    .dataframe tbody tr th:only-of-type {\n",
       "        vertical-align: middle;\n",
       "    }\n",
       "\n",
       "    .dataframe tbody tr th {\n",
       "        vertical-align: top;\n",
       "    }\n",
       "\n",
       "    .dataframe thead th {\n",
       "        text-align: right;\n",
       "    }\n",
       "</style>\n",
       "<table border=\"1\" class=\"dataframe\">\n",
       "  <thead>\n",
       "    <tr style=\"text-align: right;\">\n",
       "      <th></th>\n",
       "      <th>Unique Key</th>\n",
       "      <th>Created Date</th>\n",
       "      <th>Closed Date</th>\n",
       "      <th>Agency</th>\n",
       "      <th>Agency Name</th>\n",
       "      <th>Complaint Type</th>\n",
       "      <th>Descriptor</th>\n",
       "      <th>Location Type</th>\n",
       "      <th>Incident Zip</th>\n",
       "      <th>Incident Address</th>\n",
       "      <th>...</th>\n",
       "      <th>Road Ramp</th>\n",
       "      <th>Bridge Highway Segment</th>\n",
       "      <th>Garage Lot Name</th>\n",
       "      <th>Ferry Direction</th>\n",
       "      <th>Ferry Terminal Name</th>\n",
       "      <th>Latitude</th>\n",
       "      <th>Longitude</th>\n",
       "      <th>Location</th>\n",
       "      <th>Request_Closing_Time</th>\n",
       "      <th>Request_Closing_Time_mins</th>\n",
       "    </tr>\n",
       "  </thead>\n",
       "  <tbody>\n",
       "    <tr>\n",
       "      <th>0</th>\n",
       "      <td>32310363</td>\n",
       "      <td>2015-12-31 23:59:45</td>\n",
       "      <td>2016-01-01 00:55:00</td>\n",
       "      <td>NYPD</td>\n",
       "      <td>New York City Police Department</td>\n",
       "      <td>Noise - Street/Sidewalk</td>\n",
       "      <td>Loud Music/Party</td>\n",
       "      <td>Street/Sidewalk</td>\n",
       "      <td>10034.0</td>\n",
       "      <td>71 VERMILYEA AVENUE</td>\n",
       "      <td>...</td>\n",
       "      <td>NaN</td>\n",
       "      <td>NaN</td>\n",
       "      <td>NaN</td>\n",
       "      <td>NaN</td>\n",
       "      <td>NaN</td>\n",
       "      <td>40.865682</td>\n",
       "      <td>-73.923501</td>\n",
       "      <td>(40.86568153633767, -73.92350095571744)</td>\n",
       "      <td>0 days 00:55:15</td>\n",
       "      <td>55.250000</td>\n",
       "    </tr>\n",
       "    <tr>\n",
       "      <th>1</th>\n",
       "      <td>32309934</td>\n",
       "      <td>2015-12-31 23:59:44</td>\n",
       "      <td>2016-01-01 01:26:00</td>\n",
       "      <td>NYPD</td>\n",
       "      <td>New York City Police Department</td>\n",
       "      <td>Blocked Driveway</td>\n",
       "      <td>No Access</td>\n",
       "      <td>Street/Sidewalk</td>\n",
       "      <td>11105.0</td>\n",
       "      <td>27-07 23 AVENUE</td>\n",
       "      <td>...</td>\n",
       "      <td>NaN</td>\n",
       "      <td>NaN</td>\n",
       "      <td>NaN</td>\n",
       "      <td>NaN</td>\n",
       "      <td>NaN</td>\n",
       "      <td>40.775945</td>\n",
       "      <td>-73.915094</td>\n",
       "      <td>(40.775945312321085, -73.91509393898605)</td>\n",
       "      <td>0 days 01:26:16</td>\n",
       "      <td>86.266667</td>\n",
       "    </tr>\n",
       "    <tr>\n",
       "      <th>2</th>\n",
       "      <td>32309159</td>\n",
       "      <td>2015-12-31 23:59:29</td>\n",
       "      <td>2016-01-01 04:51:00</td>\n",
       "      <td>NYPD</td>\n",
       "      <td>New York City Police Department</td>\n",
       "      <td>Blocked Driveway</td>\n",
       "      <td>No Access</td>\n",
       "      <td>Street/Sidewalk</td>\n",
       "      <td>10458.0</td>\n",
       "      <td>2897 VALENTINE AVENUE</td>\n",
       "      <td>...</td>\n",
       "      <td>NaN</td>\n",
       "      <td>NaN</td>\n",
       "      <td>NaN</td>\n",
       "      <td>NaN</td>\n",
       "      <td>NaN</td>\n",
       "      <td>40.870325</td>\n",
       "      <td>-73.888525</td>\n",
       "      <td>(40.870324522111424, -73.88852464418646)</td>\n",
       "      <td>0 days 04:51:31</td>\n",
       "      <td>291.516667</td>\n",
       "    </tr>\n",
       "    <tr>\n",
       "      <th>3</th>\n",
       "      <td>32305098</td>\n",
       "      <td>2015-12-31 23:57:46</td>\n",
       "      <td>2016-01-01 07:43:00</td>\n",
       "      <td>NYPD</td>\n",
       "      <td>New York City Police Department</td>\n",
       "      <td>Illegal Parking</td>\n",
       "      <td>Commercial Overnight Parking</td>\n",
       "      <td>Street/Sidewalk</td>\n",
       "      <td>10461.0</td>\n",
       "      <td>2940 BAISLEY AVENUE</td>\n",
       "      <td>...</td>\n",
       "      <td>NaN</td>\n",
       "      <td>NaN</td>\n",
       "      <td>NaN</td>\n",
       "      <td>NaN</td>\n",
       "      <td>NaN</td>\n",
       "      <td>40.835994</td>\n",
       "      <td>-73.828379</td>\n",
       "      <td>(40.83599404683083, -73.82837939584206)</td>\n",
       "      <td>0 days 07:45:14</td>\n",
       "      <td>465.233333</td>\n",
       "    </tr>\n",
       "    <tr>\n",
       "      <th>4</th>\n",
       "      <td>32306529</td>\n",
       "      <td>2015-12-31 23:56:58</td>\n",
       "      <td>2016-01-01 03:24:00</td>\n",
       "      <td>NYPD</td>\n",
       "      <td>New York City Police Department</td>\n",
       "      <td>Illegal Parking</td>\n",
       "      <td>Blocked Sidewalk</td>\n",
       "      <td>Street/Sidewalk</td>\n",
       "      <td>11373.0</td>\n",
       "      <td>87-14 57 ROAD</td>\n",
       "      <td>...</td>\n",
       "      <td>NaN</td>\n",
       "      <td>NaN</td>\n",
       "      <td>NaN</td>\n",
       "      <td>NaN</td>\n",
       "      <td>NaN</td>\n",
       "      <td>40.733060</td>\n",
       "      <td>-73.874170</td>\n",
       "      <td>(40.733059618956815, -73.87416975810375)</td>\n",
       "      <td>0 days 03:27:02</td>\n",
       "      <td>207.033333</td>\n",
       "    </tr>\n",
       "  </tbody>\n",
       "</table>\n",
       "<p>5 rows × 55 columns</p>\n",
       "</div>"
      ],
      "text/plain": [
       "   Unique Key        Created Date         Closed Date Agency  \\\n",
       "0    32310363 2015-12-31 23:59:45 2016-01-01 00:55:00   NYPD   \n",
       "1    32309934 2015-12-31 23:59:44 2016-01-01 01:26:00   NYPD   \n",
       "2    32309159 2015-12-31 23:59:29 2016-01-01 04:51:00   NYPD   \n",
       "3    32305098 2015-12-31 23:57:46 2016-01-01 07:43:00   NYPD   \n",
       "4    32306529 2015-12-31 23:56:58 2016-01-01 03:24:00   NYPD   \n",
       "\n",
       "                       Agency Name           Complaint Type  \\\n",
       "0  New York City Police Department  Noise - Street/Sidewalk   \n",
       "1  New York City Police Department         Blocked Driveway   \n",
       "2  New York City Police Department         Blocked Driveway   \n",
       "3  New York City Police Department          Illegal Parking   \n",
       "4  New York City Police Department          Illegal Parking   \n",
       "\n",
       "                     Descriptor    Location Type  Incident Zip  \\\n",
       "0              Loud Music/Party  Street/Sidewalk       10034.0   \n",
       "1                     No Access  Street/Sidewalk       11105.0   \n",
       "2                     No Access  Street/Sidewalk       10458.0   \n",
       "3  Commercial Overnight Parking  Street/Sidewalk       10461.0   \n",
       "4              Blocked Sidewalk  Street/Sidewalk       11373.0   \n",
       "\n",
       "        Incident Address  ... Road Ramp Bridge Highway Segment  \\\n",
       "0    71 VERMILYEA AVENUE  ...       NaN                    NaN   \n",
       "1        27-07 23 AVENUE  ...       NaN                    NaN   \n",
       "2  2897 VALENTINE AVENUE  ...       NaN                    NaN   \n",
       "3    2940 BAISLEY AVENUE  ...       NaN                    NaN   \n",
       "4          87-14 57 ROAD  ...       NaN                    NaN   \n",
       "\n",
       "  Garage Lot Name Ferry Direction Ferry Terminal Name   Latitude  Longitude  \\\n",
       "0             NaN             NaN                 NaN  40.865682 -73.923501   \n",
       "1             NaN             NaN                 NaN  40.775945 -73.915094   \n",
       "2             NaN             NaN                 NaN  40.870325 -73.888525   \n",
       "3             NaN             NaN                 NaN  40.835994 -73.828379   \n",
       "4             NaN             NaN                 NaN  40.733060 -73.874170   \n",
       "\n",
       "                                   Location Request_Closing_Time  \\\n",
       "0   (40.86568153633767, -73.92350095571744)      0 days 00:55:15   \n",
       "1  (40.775945312321085, -73.91509393898605)      0 days 01:26:16   \n",
       "2  (40.870324522111424, -73.88852464418646)      0 days 04:51:31   \n",
       "3   (40.83599404683083, -73.82837939584206)      0 days 07:45:14   \n",
       "4  (40.733059618956815, -73.87416975810375)      0 days 03:27:02   \n",
       "\n",
       "  Request_Closing_Time_mins  \n",
       "0                 55.250000  \n",
       "1                 86.266667  \n",
       "2                291.516667  \n",
       "3                465.233333  \n",
       "4                207.033333  \n",
       "\n",
       "[5 rows x 55 columns]"
      ]
     },
     "execution_count": 14,
     "metadata": {},
     "output_type": "execute_result"
    }
   ],
   "source": [
    "data.head()"
   ]
  },
  {
   "cell_type": "code",
   "execution_count": 15,
   "id": "1f4f4695",
   "metadata": {
    "execution": {
     "iopub.execute_input": "2023-06-01T16:17:39.301017Z",
     "iopub.status.busy": "2023-06-01T16:17:39.299927Z",
     "iopub.status.idle": "2023-06-01T16:17:39.303816Z",
     "shell.execute_reply": "2023-06-01T16:17:39.304408Z",
     "shell.execute_reply.started": "2021-07-21T08:49:51.932951Z"
    },
    "papermill": {
     "duration": 0.070402,
     "end_time": "2023-06-01T16:17:39.304608",
     "exception": false,
     "start_time": "2023-06-01T16:17:39.234206",
     "status": "completed"
    },
    "tags": []
   },
   "outputs": [],
   "source": [
    "# Provide major insights/patterns that you can offer in a visual format (graphs or tables); \n",
    "#at least 4 major conclusions that you can come up with after generic data mining."
   ]
  },
  {
   "cell_type": "code",
   "execution_count": 16,
   "id": "d7d11ac7",
   "metadata": {
    "execution": {
     "iopub.execute_input": "2023-06-01T16:17:39.430273Z",
     "iopub.status.busy": "2023-06-01T16:17:39.429263Z",
     "iopub.status.idle": "2023-06-01T16:17:39.470009Z",
     "shell.execute_reply": "2023-06-01T16:17:39.469395Z",
     "shell.execute_reply.started": "2021-07-21T08:49:51.938553Z"
    },
    "papermill": {
     "duration": 0.104831,
     "end_time": "2023-06-01T16:17:39.470189",
     "exception": false,
     "start_time": "2023-06-01T16:17:39.365358",
     "status": "completed"
    },
    "tags": []
   },
   "outputs": [
    {
     "data": {
      "text/plain": [
       "array(['Noise - Street/Sidewalk', 'Blocked Driveway', 'Illegal Parking',\n",
       "       'Derelict Vehicle', 'Noise - Commercial',\n",
       "       'Noise - House of Worship', 'Posting Advertisement',\n",
       "       'Noise - Vehicle', 'Animal Abuse', 'Vending', 'Traffic',\n",
       "       'Drinking', 'Bike/Roller/Skate Chronic', 'Panhandling',\n",
       "       'Noise - Park', 'Homeless Encampment', 'Urinating in Public',\n",
       "       'Graffiti', 'Disorderly Youth', 'Illegal Fireworks',\n",
       "       'Ferry Complaint', 'Agency Issues', 'Squeegee'], dtype=object)"
      ]
     },
     "execution_count": 16,
     "metadata": {},
     "output_type": "execute_result"
    }
   ],
   "source": [
    "data['Complaint Type'].unique()"
   ]
  },
  {
   "cell_type": "code",
   "execution_count": 17,
   "id": "4acc61eb",
   "metadata": {
    "execution": {
     "iopub.execute_input": "2023-06-01T16:17:39.610908Z",
     "iopub.status.busy": "2023-06-01T16:17:39.610153Z",
     "iopub.status.idle": "2023-06-01T16:17:39.700440Z",
     "shell.execute_reply": "2023-06-01T16:17:39.701066Z",
     "shell.execute_reply.started": "2021-07-21T08:49:51.988255Z"
    },
    "papermill": {
     "duration": 0.16915,
     "end_time": "2023-06-01T16:17:39.701286",
     "exception": false,
     "start_time": "2023-06-01T16:17:39.532136",
     "status": "completed"
    },
    "tags": []
   },
   "outputs": [],
   "source": [
    "# Conclusion 1: City with maximum number of complaints was found to be Brooklyn with different types of complaints\n",
    "df1=data.groupby(['City','Complaint Type']).size().unstack().fillna(0)"
   ]
  },
  {
   "cell_type": "code",
   "execution_count": 18,
   "id": "8f15fe60",
   "metadata": {
    "execution": {
     "iopub.execute_input": "2023-06-01T16:17:39.830423Z",
     "iopub.status.busy": "2023-06-01T16:17:39.829348Z",
     "iopub.status.idle": "2023-06-01T16:17:44.854231Z",
     "shell.execute_reply": "2023-06-01T16:17:44.854804Z",
     "shell.execute_reply.started": "2021-07-21T08:49:52.088348Z"
    },
    "papermill": {
     "duration": 5.091772,
     "end_time": "2023-06-01T16:17:44.855010",
     "exception": false,
     "start_time": "2023-06-01T16:17:39.763238",
     "status": "completed"
    },
    "tags": []
   },
   "outputs": [
    {
     "data": {
      "text/plain": [
       "Text(0.5, 1.0, 'Number of complaints vs. City')"
      ]
     },
     "execution_count": 18,
     "metadata": {},
     "output_type": "execute_result"
    },
    {
     "data": {
      "image/png": "[encoded data removed]",
      "text/plain": [
       "<Figure size 1080x720 with 1 Axes>"
      ]
     },
     "metadata": {
      "needs_background": "light"
     },
     "output_type": "display_data"
    }
   ],
   "source": [
    "df1.plot.bar(figsize=(15,10), stacked=True)\n",
    "plt.ylabel('Number of Complaints')\n",
    "plt.title('Number of complaints vs. City')"
   ]
  },
  {
   "cell_type": "code",
   "execution_count": 19,
   "id": "032a969f",
   "metadata": {
    "execution": {
     "iopub.execute_input": "2023-06-01T16:17:44.989520Z",
     "iopub.status.busy": "2023-06-01T16:17:44.988754Z",
     "iopub.status.idle": "2023-06-01T16:17:45.021210Z",
     "shell.execute_reply": "2023-06-01T16:17:45.021833Z",
     "shell.execute_reply.started": "2021-07-21T08:49:56.774205Z"
    },
    "papermill": {
     "duration": 0.102361,
     "end_time": "2023-06-01T16:17:45.022045",
     "exception": false,
     "start_time": "2023-06-01T16:17:44.919684",
     "status": "completed"
    },
    "tags": []
   },
   "outputs": [
    {
     "data": {
      "text/plain": [
       "array(['Closed', 'Open', 'Assigned', 'Draft'], dtype=object)"
      ]
     },
     "execution_count": 19,
     "metadata": {},
     "output_type": "execute_result"
    }
   ],
   "source": [
    "data.Status.unique()"
   ]
  },
  {
   "cell_type": "code",
   "execution_count": 20,
   "id": "f2bb23a6",
   "metadata": {
    "execution": {
     "iopub.execute_input": "2023-06-01T16:17:45.202866Z",
     "iopub.status.busy": "2023-06-01T16:17:45.201996Z",
     "iopub.status.idle": "2023-06-01T16:17:45.245305Z",
     "shell.execute_reply": "2023-06-01T16:17:45.244612Z",
     "shell.execute_reply.started": "2021-07-21T08:49:56.805535Z"
    },
    "papermill": {
     "duration": 0.15727,
     "end_time": "2023-06-01T16:17:45.245476",
     "exception": false,
     "start_time": "2023-06-01T16:17:45.088206",
     "status": "completed"
    },
    "tags": []
   },
   "outputs": [],
   "source": [
    "df2=data.groupby(['City','Status']).size().unstack().fillna(0)"
   ]
  },
  {
   "cell_type": "code",
   "execution_count": 21,
   "id": "a1c1a1a9",
   "metadata": {
    "execution": {
     "iopub.execute_input": "2023-06-01T16:17:45.379876Z",
     "iopub.status.busy": "2023-06-01T16:17:45.378820Z",
     "iopub.status.idle": "2023-06-01T16:17:45.394978Z",
     "shell.execute_reply": "2023-06-01T16:17:45.395527Z",
     "shell.execute_reply.started": "2021-07-21T08:49:56.890648Z"
    },
    "papermill": {
     "duration": 0.084231,
     "end_time": "2023-06-01T16:17:45.395734",
     "exception": false,
     "start_time": "2023-06-01T16:17:45.311503",
     "status": "completed"
    },
    "tags": []
   },
   "outputs": [
    {
     "data": {
      "text/html": [
       "<div>\n",
       "<style scoped>\n",
       "    .dataframe tbody tr th:only-of-type {\n",
       "        vertical-align: middle;\n",
       "    }\n",
       "\n",
       "    .dataframe tbody tr th {\n",
       "        vertical-align: top;\n",
       "    }\n",
       "\n",
       "    .dataframe thead th {\n",
       "        text-align: right;\n",
       "    }\n",
       "</style>\n",
       "<table border=\"1\" class=\"dataframe\">\n",
       "  <thead>\n",
       "    <tr style=\"text-align: right;\">\n",
       "      <th>Status</th>\n",
       "      <th>Assigned</th>\n",
       "      <th>Closed</th>\n",
       "      <th>Draft</th>\n",
       "      <th>Open</th>\n",
       "    </tr>\n",
       "    <tr>\n",
       "      <th>City</th>\n",
       "      <th></th>\n",
       "      <th></th>\n",
       "      <th></th>\n",
       "      <th></th>\n",
       "    </tr>\n",
       "  </thead>\n",
       "  <tbody>\n",
       "    <tr>\n",
       "      <th>NEW YORK</th>\n",
       "      <td>15.0</td>\n",
       "      <td>65961.0</td>\n",
       "      <td>0.0</td>\n",
       "      <td>18.0</td>\n",
       "    </tr>\n",
       "    <tr>\n",
       "      <th>BROOKLYN</th>\n",
       "      <td>19.0</td>\n",
       "      <td>98275.0</td>\n",
       "      <td>1.0</td>\n",
       "      <td>12.0</td>\n",
       "    </tr>\n",
       "    <tr>\n",
       "      <th>JAMAICA</th>\n",
       "      <td>1.0</td>\n",
       "      <td>7286.0</td>\n",
       "      <td>0.0</td>\n",
       "      <td>9.0</td>\n",
       "    </tr>\n",
       "    <tr>\n",
       "      <th>STATEN ISLAND</th>\n",
       "      <td>2.0</td>\n",
       "      <td>12335.0</td>\n",
       "      <td>0.0</td>\n",
       "      <td>6.0</td>\n",
       "    </tr>\n",
       "    <tr>\n",
       "      <th>BRONX</th>\n",
       "      <td>6.0</td>\n",
       "      <td>40690.0</td>\n",
       "      <td>1.0</td>\n",
       "      <td>5.0</td>\n",
       "    </tr>\n",
       "  </tbody>\n",
       "</table>\n",
       "</div>"
      ],
      "text/plain": [
       "Status         Assigned   Closed  Draft  Open\n",
       "City                                         \n",
       "NEW YORK           15.0  65961.0    0.0  18.0\n",
       "BROOKLYN           19.0  98275.0    1.0  12.0\n",
       "JAMAICA             1.0   7286.0    0.0   9.0\n",
       "STATEN ISLAND       2.0  12335.0    0.0   6.0\n",
       "BRONX               6.0  40690.0    1.0   5.0"
      ]
     },
     "execution_count": 21,
     "metadata": {},
     "output_type": "execute_result"
    }
   ],
   "source": [
    "# Conclusion 2: Based upon the status of complaints it can be inferred that maximum number of complaints were resolved.\n",
    "# From the total unresolved cases the top 5 cities have been found which sum upto 76.92 % of total Open cases\n",
    "df2.sort_values(by='Open', ascending=False).head() # Thus maximum pending cases are in New york"
   ]
  },
  {
   "cell_type": "code",
   "execution_count": 22,
   "id": "110f500a",
   "metadata": {
    "execution": {
     "iopub.execute_input": "2023-06-01T16:17:45.533614Z",
     "iopub.status.busy": "2023-06-01T16:17:45.532856Z",
     "iopub.status.idle": "2023-06-01T16:17:45.551171Z",
     "shell.execute_reply": "2023-06-01T16:17:45.551766Z",
     "shell.execute_reply.started": "2021-07-21T08:49:56.90838Z"
    },
    "papermill": {
     "duration": 0.091358,
     "end_time": "2023-06-01T16:17:45.551962",
     "exception": false,
     "start_time": "2023-06-01T16:17:45.460604",
     "status": "completed"
    },
    "tags": []
   },
   "outputs": [],
   "source": [
    "df2['Unresolved_percentage']= df2['Open']/df2['Open'].sum()*100"
   ]
  },
  {
   "cell_type": "code",
   "execution_count": 23,
   "id": "8cd124d9",
   "metadata": {
    "execution": {
     "iopub.execute_input": "2023-06-01T16:17:45.690030Z",
     "iopub.status.busy": "2023-06-01T16:17:45.689278Z",
     "iopub.status.idle": "2023-06-01T16:17:45.699537Z",
     "shell.execute_reply": "2023-06-01T16:17:45.700251Z",
     "shell.execute_reply.started": "2021-07-21T08:49:56.944747Z"
    },
    "papermill": {
     "duration": 0.08181,
     "end_time": "2023-06-01T16:17:45.700457",
     "exception": false,
     "start_time": "2023-06-01T16:17:45.618647",
     "status": "completed"
    },
    "tags": []
   },
   "outputs": [
    {
     "data": {
      "text/plain": [
       "Status\n",
       "Assigned                     43.000000\n",
       "Closed                   224547.000000\n",
       "Draft                         2.000000\n",
       "Open                         50.000000\n",
       "Unresolved_percentage        76.923077\n",
       "dtype: float64"
      ]
     },
     "execution_count": 23,
     "metadata": {},
     "output_type": "execute_result"
    }
   ],
   "source": [
    "df2.sort_values(by='Unresolved_percentage', ascending=False).head().sum()"
   ]
  },
  {
   "cell_type": "code",
   "execution_count": 24,
   "id": "fd30b2ce",
   "metadata": {
    "execution": {
     "iopub.execute_input": "2023-06-01T16:17:45.839159Z",
     "iopub.status.busy": "2023-06-01T16:17:45.838421Z",
     "iopub.status.idle": "2023-06-01T16:17:46.646200Z",
     "shell.execute_reply": "2023-06-01T16:17:46.646943Z",
     "shell.execute_reply.started": "2021-07-21T08:49:56.958197Z"
    },
    "papermill": {
     "duration": 0.878507,
     "end_time": "2023-06-01T16:17:46.647179",
     "exception": false,
     "start_time": "2023-06-01T16:17:45.768672",
     "status": "completed"
    },
    "tags": []
   },
   "outputs": [
    {
     "data": {
      "text/plain": [
       "[Text(0, 0, 'Illegal Parking'),\n",
       " Text(1, 0, 'Blocked Driveway'),\n",
       " Text(2, 0, 'Noise - Commercial'),\n",
       " Text(3, 0, 'Noise - Street/Sidewalk'),\n",
       " Text(4, 0, 'Noise - Vehicle'),\n",
       " Text(5, 0, 'Traffic'),\n",
       " Text(6, 0, 'Derelict Vehicle'),\n",
       " Text(7, 0, 'Animal Abuse'),\n",
       " Text(8, 0, 'Drinking'),\n",
       " Text(9, 0, 'Vending'),\n",
       " Text(10, 0, 'Noise - Park'),\n",
       " Text(11, 0, 'Homeless Encampment'),\n",
       " Text(12, 0, 'Posting Advertisement'),\n",
       " Text(13, 0, 'Panhandling'),\n",
       " Text(14, 0, 'Graffiti'),\n",
       " Text(15, 0, 'Noise - House of Worship'),\n",
       " Text(16, 0, 'Bike/Roller/Skate Chronic'),\n",
       " Text(17, 0, 'Urinating in Public'),\n",
       " Text(18, 0, 'Disorderly Youth'),\n",
       " Text(19, 0, 'Illegal Fireworks')]"
      ]
     },
     "execution_count": 24,
     "metadata": {},
     "output_type": "execute_result"
    },
    {
     "data": {
      "image/png": "[encoded data removed]",
      "text/plain": [
       "<Figure size 432x288 with 1 Axes>"
      ]
     },
     "metadata": {
      "needs_background": "light"
     },
     "output_type": "display_data"
    }
   ],
   "source": [
    "# Conclusion 3: Since maximum number of complaints were filed in Brooklyn, complaint data was analysed for this city.\n",
    "# Blocked Driveway was found to be the most frequent complaint lodged to NYPD in the city of Brooklyn.\n",
    "data.loc[(data['City']=='BROOKLYN'),:]['Complaint Type'].value_counts()\n",
    "plot_3= sns.countplot(x=data.loc[data.City=='BROOKLYN']['Complaint Type'], palette='YlOrRd_r')\n",
    "plot_3.set_xticklabels(plot_3.get_xticklabels(), rotation=90)"
   ]
  },
  {
   "cell_type": "code",
   "execution_count": 25,
   "id": "d0684dd3",
   "metadata": {
    "execution": {
     "iopub.execute_input": "2023-06-01T16:17:46.786937Z",
     "iopub.status.busy": "2023-06-01T16:17:46.786137Z",
     "iopub.status.idle": "2023-06-01T16:17:47.698973Z",
     "shell.execute_reply": "2023-06-01T16:17:47.699596Z",
     "shell.execute_reply.started": "2021-07-21T08:49:57.681017Z"
    },
    "papermill": {
     "duration": 0.984294,
     "end_time": "2023-06-01T16:17:47.699811",
     "exception": false,
     "start_time": "2023-06-01T16:17:46.715517",
     "status": "completed"
    },
    "tags": []
   },
   "outputs": [
    {
     "data": {
      "text/plain": [
       "<AxesSubplot:xlabel='Agency Name'>"
      ]
     },
     "execution_count": 25,
     "metadata": {},
     "output_type": "execute_result"
    },
    {
     "data": {
      "image/png": "[encoded data removed]",
      "text/plain": [
       "<Figure size 576x576 with 1 Axes>"
      ]
     },
     "metadata": {
      "needs_background": "light"
     },
     "output_type": "display_data"
    }
   ],
   "source": [
    "# Conclusion 4: It was found that al the complaints were lodged to New York Police Department\n",
    "df3=data.groupby(['Agency Name','Complaint Type']).size().unstack().head(50)\n",
    "df3.plot.bar(figsize=(8,8))"
   ]
  },
  {
   "cell_type": "code",
   "execution_count": 26,
   "id": "30d85c95",
   "metadata": {
    "execution": {
     "iopub.execute_input": "2023-06-01T16:17:47.842751Z",
     "iopub.status.busy": "2023-06-01T16:17:47.841924Z",
     "iopub.status.idle": "2023-06-01T16:17:47.887889Z",
     "shell.execute_reply": "2023-06-01T16:17:47.888463Z",
     "shell.execute_reply.started": "2021-07-21T08:49:58.516844Z"
    },
    "papermill": {
     "duration": 0.119195,
     "end_time": "2023-06-01T16:17:47.888658",
     "exception": false,
     "start_time": "2023-06-01T16:17:47.769463",
     "status": "completed"
    },
    "tags": []
   },
   "outputs": [
    {
     "data": {
      "text/plain": [
       "array(['Street/Sidewalk', 'Club/Bar/Restaurant', 'Store/Commercial',\n",
       "       'House of Worship', 'Residential Building/House',\n",
       "       'Residential Building', 'Park/Playground', 'Vacant Lot',\n",
       "       'House and Store', 'Highway', 'Commercial', 'Roadway Tunnel',\n",
       "       'Subway Station', 'Parking Lot', 'Bridge', 'Terminal', nan,\n",
       "       'Ferry'], dtype=object)"
      ]
     },
     "execution_count": 26,
     "metadata": {},
     "output_type": "execute_result"
    }
   ],
   "source": [
    "data['Location Type'].unique()"
   ]
  },
  {
   "cell_type": "code",
   "execution_count": 27,
   "id": "8a3b88c0",
   "metadata": {
    "execution": {
     "iopub.execute_input": "2023-06-01T16:17:48.033286Z",
     "iopub.status.busy": "2023-06-01T16:17:48.032486Z",
     "iopub.status.idle": "2023-06-01T16:17:48.120149Z",
     "shell.execute_reply": "2023-06-01T16:17:48.119355Z",
     "shell.execute_reply.started": "2021-07-21T08:49:58.562507Z"
    },
    "papermill": {
     "duration": 0.161051,
     "end_time": "2023-06-01T16:17:48.120316",
     "exception": false,
     "start_time": "2023-06-01T16:17:47.959265",
     "status": "completed"
    },
    "tags": []
   },
   "outputs": [
    {
     "data": {
      "text/plain": [
       "Street/Sidewalk               249299\n",
       "Store/Commercial               20381\n",
       "Club/Bar/Restaurant            17360\n",
       "Residential Building/House      6960\n",
       "Park/Playground                 4773\n",
       "House of Worship                 929\n",
       "Residential Building             227\n",
       "Highway                          215\n",
       "Parking Lot                      117\n",
       "House and Store                   93\n",
       "Vacant Lot                        77\n",
       "Commercial                        62\n",
       "Roadway Tunnel                    35\n",
       "Subway Station                    34\n",
       "Bridge                             2\n",
       "Terminal                           1\n",
       "Ferry                              1\n",
       "Name: Location Type, dtype: int64"
      ]
     },
     "execution_count": 27,
     "metadata": {},
     "output_type": "execute_result"
    }
   ],
   "source": [
    "data['Location Type'].value_counts()"
   ]
  },
  {
   "cell_type": "code",
   "execution_count": 28,
   "id": "02b0e5c3",
   "metadata": {
    "execution": {
     "iopub.execute_input": "2023-06-01T16:17:48.302186Z",
     "iopub.status.busy": "2023-06-01T16:17:48.299377Z",
     "iopub.status.idle": "2023-06-01T16:17:48.304483Z",
     "shell.execute_reply": "2023-06-01T16:17:48.305135Z",
     "shell.execute_reply.started": "2021-07-21T08:49:58.652185Z"
    },
    "papermill": {
     "duration": 0.113646,
     "end_time": "2023-06-01T16:17:48.305336",
     "exception": false,
     "start_time": "2023-06-01T16:17:48.191690",
     "status": "completed"
    },
    "tags": []
   },
   "outputs": [],
   "source": [
    "# Conclusion 5: The maximum complaints were regarding Street and Sidwalk which indicate that \n",
    "# there is a scope for improvement in strict measures on the road thus Traffic police can look into this matter\n",
    "data['Location Type'].fillna(value='Street/Sidewalk',inplace=True)"
   ]
  },
  {
   "cell_type": "code",
   "execution_count": 29,
   "id": "e3418973",
   "metadata": {
    "execution": {
     "iopub.execute_input": "2023-06-01T16:17:48.452161Z",
     "iopub.status.busy": "2023-06-01T16:17:48.451065Z",
     "iopub.status.idle": "2023-06-01T16:17:49.189653Z",
     "shell.execute_reply": "2023-06-01T16:17:49.190264Z",
     "shell.execute_reply.started": "2021-07-21T08:49:58.70107Z"
    },
    "papermill": {
     "duration": 0.813332,
     "end_time": "2023-06-01T16:17:49.190464",
     "exception": false,
     "start_time": "2023-06-01T16:17:48.377132",
     "status": "completed"
    },
    "tags": []
   },
   "outputs": [
    {
     "name": "stderr",
     "output_type": "stream",
     "text": [
      "/opt/conda/lib/python3.7/site-packages/seaborn/_decorators.py:43: FutureWarning: Pass the following variable as a keyword arg: x. From version 0.12, the only valid positional argument will be `data`, and passing other arguments without an explicit keyword will result in an error or misinterpretation.\n",
      "  FutureWarning\n"
     ]
    },
    {
     "data": {
      "text/plain": [
       "[Text(0, 0, 'Street/Sidewalk'),\n",
       " Text(1, 0, 'Club/Bar/Restaurant'),\n",
       " Text(2, 0, 'Store/Commercial'),\n",
       " Text(3, 0, 'House of Worship'),\n",
       " Text(4, 0, 'Residential Building/House'),\n",
       " Text(5, 0, 'Residential Building'),\n",
       " Text(6, 0, 'Park/Playground'),\n",
       " Text(7, 0, 'Vacant Lot'),\n",
       " Text(8, 0, 'House and Store'),\n",
       " Text(9, 0, 'Highway'),\n",
       " Text(10, 0, 'Commercial'),\n",
       " Text(11, 0, 'Roadway Tunnel'),\n",
       " Text(12, 0, 'Subway Station'),\n",
       " Text(13, 0, 'Parking Lot'),\n",
       " Text(14, 0, 'Bridge'),\n",
       " Text(15, 0, 'Terminal'),\n",
       " Text(16, 0, 'Ferry')]"
      ]
     },
     "execution_count": 29,
     "metadata": {},
     "output_type": "execute_result"
    },
    {
     "data": {
      "image/png": "[encoded data removed]",
      "text/plain": [
       "<Figure size 720x360 with 1 Axes>"
      ]
     },
     "metadata": {
      "needs_background": "light"
     },
     "output_type": "display_data"
    }
   ],
   "source": [
    "plt.figure(figsize=(10,5))\n",
    "plot_4 =sns.countplot(data['Location Type'])\n",
    "plot_4.set_xticklabels(plot_4.get_xticklabels(), rotation=90)"
   ]
  },
  {
   "cell_type": "code",
   "execution_count": 30,
   "id": "cdddd567",
   "metadata": {
    "execution": {
     "iopub.execute_input": "2023-06-01T16:17:49.356706Z",
     "iopub.status.busy": "2023-06-01T16:17:49.355791Z",
     "iopub.status.idle": "2023-06-01T16:17:49.453581Z",
     "shell.execute_reply": "2023-06-01T16:17:49.452955Z",
     "shell.execute_reply.started": "2021-07-21T08:49:59.383415Z"
    },
    "papermill": {
     "duration": 0.189293,
     "end_time": "2023-06-01T16:17:49.453753",
     "exception": false,
     "start_time": "2023-06-01T16:17:49.264460",
     "status": "completed"
    },
    "tags": []
   },
   "outputs": [
    {
     "data": {
      "text/plain": [
       "Index(['Blocked Driveway', 'Illegal Parking', 'Noise - Street/Sidewalk',\n",
       "       'Noise - Commercial', 'Derelict Vehicle'],\n",
       "      dtype='object')"
      ]
     },
     "execution_count": 30,
     "metadata": {},
     "output_type": "execute_result"
    }
   ],
   "source": [
    "# Conclusion 6: Major Complaint types and their count\n",
    "df4= data['Complaint Type'].value_counts().head(10)\n",
    "df4.nlargest().index"
   ]
  },
  {
   "cell_type": "code",
   "execution_count": 31,
   "id": "7f42d0ed",
   "metadata": {
    "execution": {
     "iopub.execute_input": "2023-06-01T16:17:49.613186Z",
     "iopub.status.busy": "2023-06-01T16:17:49.612389Z",
     "iopub.status.idle": "2023-06-01T16:17:49.616781Z",
     "shell.execute_reply": "2023-06-01T16:17:49.617392Z",
     "shell.execute_reply.started": "2021-07-21T08:49:59.474604Z"
    },
    "papermill": {
     "duration": 0.087723,
     "end_time": "2023-06-01T16:17:49.617588",
     "exception": false,
     "start_time": "2023-06-01T16:17:49.529865",
     "status": "completed"
    },
    "tags": []
   },
   "outputs": [
    {
     "data": {
      "text/plain": [
       "Blocked Driveway           77044\n",
       "Illegal Parking            75361\n",
       "Noise - Street/Sidewalk    48612\n",
       "Noise - Commercial         35577\n",
       "Derelict Vehicle           17718\n",
       "Noise - Vehicle            17083\n",
       "Animal Abuse                7778\n",
       "Traffic                     4498\n",
       "Homeless Encampment         4416\n",
       "Noise - Park                4042\n",
       "Name: Complaint Type, dtype: int64"
      ]
     },
     "execution_count": 31,
     "metadata": {},
     "output_type": "execute_result"
    }
   ],
   "source": [
    "df4"
   ]
  },
  {
   "cell_type": "code",
   "execution_count": 32,
   "id": "97082aef",
   "metadata": {
    "execution": {
     "iopub.execute_input": "2023-06-01T16:17:49.770501Z",
     "iopub.status.busy": "2023-06-01T16:17:49.769704Z",
     "iopub.status.idle": "2023-06-01T16:17:49.976808Z",
     "shell.execute_reply": "2023-06-01T16:17:49.977391Z",
     "shell.execute_reply.started": "2021-07-21T08:49:59.48883Z"
    },
    "papermill": {
     "duration": 0.285962,
     "end_time": "2023-06-01T16:17:49.977621",
     "exception": false,
     "start_time": "2023-06-01T16:17:49.691659",
     "status": "completed"
    },
    "tags": []
   },
   "outputs": [
    {
     "data": {
      "text/plain": [
       "[Text(0, 0, 'Blocked Driveway'),\n",
       " Text(1, 0, 'Illegal Parking'),\n",
       " Text(2, 0, 'Noise - Street/Sidewalk'),\n",
       " Text(3, 0, 'Noise - Commercial'),\n",
       " Text(4, 0, 'Derelict Vehicle')]"
      ]
     },
     "execution_count": 32,
     "metadata": {},
     "output_type": "execute_result"
    },
    {
     "data": {
      "image/png": "[encoded data removed]",
      "text/plain": [
       "<Figure size 360x360 with 1 Axes>"
      ]
     },
     "metadata": {
      "needs_background": "light"
     },
     "output_type": "display_data"
    }
   ],
   "source": [
    "plt.figure(figsize=(5,5))\n",
    "plot_5= sns.barplot(x=df4.nlargest().index, y= df4.nlargest().values)\n",
    "plot_5.set_xticklabels(plot_5.get_xticklabels(), rotation=90)"
   ]
  },
  {
   "cell_type": "code",
   "execution_count": 33,
   "id": "4fc3609a",
   "metadata": {
    "execution": {
     "iopub.execute_input": "2023-06-01T16:17:50.130926Z",
     "iopub.status.busy": "2023-06-01T16:17:50.129964Z",
     "iopub.status.idle": "2023-06-01T16:17:50.137548Z",
     "shell.execute_reply": "2023-06-01T16:17:50.138242Z",
     "shell.execute_reply.started": "2021-07-21T08:49:59.689084Z"
    },
    "papermill": {
     "duration": 0.085813,
     "end_time": "2023-06-01T16:17:50.138433",
     "exception": false,
     "start_time": "2023-06-01T16:17:50.052620",
     "status": "completed"
    },
    "tags": []
   },
   "outputs": [
    {
     "data": {
      "text/plain": [
       "0     55.250000\n",
       "1     86.266667\n",
       "2    291.516667\n",
       "3    465.233333\n",
       "4    207.033333\n",
       "Name: Request_Closing_Time_mins, dtype: float64"
      ]
     },
     "execution_count": 33,
     "metadata": {},
     "output_type": "execute_result"
    }
   ],
   "source": [
    "data.Request_Closing_Time_mins.head()"
   ]
  },
  {
   "cell_type": "code",
   "execution_count": 34,
   "id": "314a818e",
   "metadata": {
    "execution": {
     "iopub.execute_input": "2023-06-01T16:17:50.291557Z",
     "iopub.status.busy": "2023-06-01T16:17:50.290812Z",
     "iopub.status.idle": "2023-06-01T16:17:54.486832Z",
     "shell.execute_reply": "2023-06-01T16:17:54.486076Z",
     "shell.execute_reply.started": "2021-07-21T08:49:59.698332Z"
    },
    "papermill": {
     "duration": 4.273588,
     "end_time": "2023-06-01T16:17:54.486995",
     "exception": false,
     "start_time": "2023-06-01T16:17:50.213407",
     "status": "completed"
    },
    "tags": []
   },
   "outputs": [
    {
     "data": {
      "text/plain": [
       "Text(0.5, 1.0, 'Average Request Closing Time for Boroughs')"
      ]
     },
     "execution_count": 34,
     "metadata": {},
     "output_type": "execute_result"
    },
    {
     "data": {
      "image/png": "[encoded data removed]",
      "text/plain": [
       "<Figure size 576x504 with 1 Axes>"
      ]
     },
     "metadata": {
      "needs_background": "light"
     },
     "output_type": "display_data"
    }
   ],
   "source": [
    "# Conclusion 7: Average resolving time of a compalaint was observed for different Boroughs\n",
    "plt.figure(figsize=(8,7))\n",
    "sns.barplot(x='Borough', y='Request_Closing_Time_mins', data=data)\n",
    "plt.title('Average Request Closing Time for Boroughs')"
   ]
  },
  {
   "cell_type": "code",
   "execution_count": 35,
   "id": "e86cc7ba",
   "metadata": {
    "execution": {
     "iopub.execute_input": "2023-06-01T16:17:54.648948Z",
     "iopub.status.busy": "2023-06-01T16:17:54.648185Z",
     "iopub.status.idle": "2023-06-01T16:17:54.696556Z",
     "shell.execute_reply": "2023-06-01T16:17:54.695886Z",
     "shell.execute_reply.started": "2021-07-21T08:50:03.538601Z"
    },
    "papermill": {
     "duration": 0.132132,
     "end_time": "2023-06-01T16:17:54.696723",
     "exception": false,
     "start_time": "2023-06-01T16:17:54.564591",
     "status": "completed"
    },
    "tags": []
   },
   "outputs": [],
   "source": [
    "# Conclusion 7: Average Request Closing Time for various Compaints\n",
    "df7=data[['Complaint Type', 'Request_Closing_Time_mins']]\n",
    "df8=df7.groupby('Complaint Type')['Request_Closing_Time_mins'].mean().fillna(0).to_frame()"
   ]
  },
  {
   "cell_type": "code",
   "execution_count": 36,
   "id": "67d4adeb",
   "metadata": {
    "execution": {
     "iopub.execute_input": "2023-06-01T16:17:54.864699Z",
     "iopub.status.busy": "2023-06-01T16:17:54.863656Z",
     "iopub.status.idle": "2023-06-01T16:17:54.868389Z",
     "shell.execute_reply": "2023-06-01T16:17:54.867613Z",
     "shell.execute_reply.started": "2021-07-21T08:50:03.589734Z"
    },
    "papermill": {
     "duration": 0.093072,
     "end_time": "2023-06-01T16:17:54.868550",
     "exception": false,
     "start_time": "2023-06-01T16:17:54.775478",
     "status": "completed"
    },
    "tags": []
   },
   "outputs": [
    {
     "data": {
      "text/html": [
       "<div>\n",
       "<style scoped>\n",
       "    .dataframe tbody tr th:only-of-type {\n",
       "        vertical-align: middle;\n",
       "    }\n",
       "\n",
       "    .dataframe tbody tr th {\n",
       "        vertical-align: top;\n",
       "    }\n",
       "\n",
       "    .dataframe thead th {\n",
       "        text-align: right;\n",
       "    }\n",
       "</style>\n",
       "<table border=\"1\" class=\"dataframe\">\n",
       "  <thead>\n",
       "    <tr style=\"text-align: right;\">\n",
       "      <th></th>\n",
       "      <th>Request_Closing_Time_mins</th>\n",
       "    </tr>\n",
       "    <tr>\n",
       "      <th>Complaint Type</th>\n",
       "      <th></th>\n",
       "    </tr>\n",
       "  </thead>\n",
       "  <tbody>\n",
       "    <tr>\n",
       "      <th>Agency Issues</th>\n",
       "      <td>315.619444</td>\n",
       "    </tr>\n",
       "    <tr>\n",
       "      <th>Animal Abuse</th>\n",
       "      <td>312.794630</td>\n",
       "    </tr>\n",
       "    <tr>\n",
       "      <th>Bike/Roller/Skate Chronic</th>\n",
       "      <td>225.987736</td>\n",
       "    </tr>\n",
       "    <tr>\n",
       "      <th>Blocked Driveway</th>\n",
       "      <td>284.454311</td>\n",
       "    </tr>\n",
       "    <tr>\n",
       "      <th>Derelict Vehicle</th>\n",
       "      <td>441.848379</td>\n",
       "    </tr>\n",
       "  </tbody>\n",
       "</table>\n",
       "</div>"
      ],
      "text/plain": [
       "                           Request_Closing_Time_mins\n",
       "Complaint Type                                      \n",
       "Agency Issues                             315.619444\n",
       "Animal Abuse                              312.794630\n",
       "Bike/Roller/Skate Chronic                 225.987736\n",
       "Blocked Driveway                          284.454311\n",
       "Derelict Vehicle                          441.848379"
      ]
     },
     "execution_count": 36,
     "metadata": {},
     "output_type": "execute_result"
    }
   ],
   "source": [
    "df8.head()"
   ]
  },
  {
   "cell_type": "markdown",
   "id": "61cad8c5",
   "metadata": {
    "papermill": {
     "duration": 0.076126,
     "end_time": "2023-06-01T16:17:55.026424",
     "exception": false,
     "start_time": "2023-06-01T16:17:54.950298",
     "status": "completed"
    },
    "tags": []
   },
   "source": [
    "# df8.head()"
   ]
  },
  {
   "cell_type": "code",
   "execution_count": 37,
   "id": "4387dab3",
   "metadata": {
    "execution": {
     "iopub.execute_input": "2023-06-01T16:17:55.186360Z",
     "iopub.status.busy": "2023-06-01T16:17:55.185312Z",
     "iopub.status.idle": "2023-06-01T16:17:55.631896Z",
     "shell.execute_reply": "2023-06-01T16:17:55.632536Z",
     "shell.execute_reply.started": "2021-07-21T08:50:03.601583Z"
    },
    "papermill": {
     "duration": 0.52882,
     "end_time": "2023-06-01T16:17:55.632742",
     "exception": false,
     "start_time": "2023-06-01T16:17:55.103922",
     "status": "completed"
    },
    "tags": []
   },
   "outputs": [
    {
     "data": {
      "text/plain": [
       "(array([ 0,  1,  2,  3,  4,  5,  6,  7,  8,  9, 10, 11, 12, 13, 14, 15, 16,\n",
       "        17, 18, 19, 20, 21, 22]),\n",
       " [Text(0, 0, 'Ferry Complaint'),\n",
       "  Text(1, 0, 'Posting Advertisement'),\n",
       "  Text(2, 0, 'Illegal Fireworks'),\n",
       "  Text(3, 0, 'Noise - Commercial'),\n",
       "  Text(4, 0, 'Noise - House of Worship'),\n",
       "  Text(5, 0, 'Noise - Park'),\n",
       "  Text(6, 0, 'Noise - Street/Sidewalk'),\n",
       "  Text(7, 0, 'Traffic'),\n",
       "  Text(8, 0, 'Disorderly Youth'),\n",
       "  Text(9, 0, 'Noise - Vehicle'),\n",
       "  Text(10, 0, 'Urinating in Public'),\n",
       "  Text(11, 0, 'Bike/Roller/Skate Chronic'),\n",
       "  Text(12, 0, 'Drinking'),\n",
       "  Text(13, 0, 'Vending'),\n",
       "  Text(14, 0, 'Squeegee'),\n",
       "  Text(15, 0, 'Homeless Encampment'),\n",
       "  Text(16, 0, 'Panhandling'),\n",
       "  Text(17, 0, 'Illegal Parking'),\n",
       "  Text(18, 0, 'Blocked Driveway'),\n",
       "  Text(19, 0, 'Animal Abuse'),\n",
       "  Text(20, 0, 'Agency Issues'),\n",
       "  Text(21, 0, 'Graffiti'),\n",
       "  Text(22, 0, 'Derelict Vehicle')])"
      ]
     },
     "execution_count": 37,
     "metadata": {},
     "output_type": "execute_result"
    },
    {
     "data": {
      "image/png": "[encoded data removed]",
      "text/plain": [
       "<Figure size 720x360 with 1 Axes>"
      ]
     },
     "metadata": {
      "needs_background": "light"
     },
     "output_type": "display_data"
    }
   ],
   "source": [
    "df8['Complaint Type']=df8.index\n",
    "plt.figure(figsize=(10,5))\n",
    "sns.barplot(x='Complaint Type', y='Request_Closing_Time_mins', data=df8.sort_values('Request_Closing_Time_mins'))\n",
    "plt.xticks(rotation=90)"
   ]
  },
  {
   "cell_type": "code",
   "execution_count": 38,
   "id": "3c2d0eff",
   "metadata": {
    "execution": {
     "iopub.execute_input": "2023-06-01T16:17:55.795882Z",
     "iopub.status.busy": "2023-06-01T16:17:55.794825Z",
     "iopub.status.idle": "2023-06-01T16:17:55.798229Z",
     "shell.execute_reply": "2023-06-01T16:17:55.797569Z",
     "shell.execute_reply.started": "2021-07-21T08:50:04.02502Z"
    },
    "papermill": {
     "duration": 0.086862,
     "end_time": "2023-06-01T16:17:55.798396",
     "exception": false,
     "start_time": "2023-06-01T16:17:55.711534",
     "status": "completed"
    },
    "tags": []
   },
   "outputs": [],
   "source": [
    "# Task 3: Order the complaint types based on the average ‘Request_Closing_Time’, grouping them for different locations"
   ]
  },
  {
   "cell_type": "code",
   "execution_count": 39,
   "id": "b10d4e9d",
   "metadata": {
    "execution": {
     "iopub.execute_input": "2023-06-01T16:17:56.008032Z",
     "iopub.status.busy": "2023-06-01T16:17:55.973507Z",
     "iopub.status.idle": "2023-06-01T16:17:56.088878Z",
     "shell.execute_reply": "2023-06-01T16:17:56.088269Z",
     "shell.execute_reply.started": "2021-07-21T08:50:04.031741Z"
    },
    "papermill": {
     "duration": 0.210826,
     "end_time": "2023-06-01T16:17:56.089060",
     "exception": false,
     "start_time": "2023-06-01T16:17:55.878234",
     "status": "completed"
    },
    "tags": []
   },
   "outputs": [
    {
     "data": {
      "text/html": [
       "<div>\n",
       "<style scoped>\n",
       "    .dataframe tbody tr th:only-of-type {\n",
       "        vertical-align: middle;\n",
       "    }\n",
       "\n",
       "    .dataframe tbody tr th {\n",
       "        vertical-align: top;\n",
       "    }\n",
       "\n",
       "    .dataframe thead th {\n",
       "        text-align: right;\n",
       "    }\n",
       "</style>\n",
       "<table border=\"1\" class=\"dataframe\">\n",
       "  <thead>\n",
       "    <tr style=\"text-align: right;\">\n",
       "      <th>Complaint Type</th>\n",
       "      <th>Animal Abuse</th>\n",
       "      <th>Blocked Driveway</th>\n",
       "      <th>Derelict Vehicle</th>\n",
       "      <th>Disorderly Youth</th>\n",
       "      <th>Drinking</th>\n",
       "      <th>Graffiti</th>\n",
       "      <th>Homeless Encampment</th>\n",
       "      <th>Illegal Parking</th>\n",
       "      <th>Noise - Commercial</th>\n",
       "      <th>Noise - House of Worship</th>\n",
       "      <th>...</th>\n",
       "      <th>Noise - Street/Sidewalk</th>\n",
       "      <th>Noise - Vehicle</th>\n",
       "      <th>Panhandling</th>\n",
       "      <th>Urinating in Public</th>\n",
       "      <th>Vending</th>\n",
       "      <th>Bike/Roller/Skate Chronic</th>\n",
       "      <th>Illegal Fireworks</th>\n",
       "      <th>Posting Advertisement</th>\n",
       "      <th>Traffic</th>\n",
       "      <th>Squeegee</th>\n",
       "    </tr>\n",
       "    <tr>\n",
       "      <th>City</th>\n",
       "      <th></th>\n",
       "      <th></th>\n",
       "      <th></th>\n",
       "      <th></th>\n",
       "      <th></th>\n",
       "      <th></th>\n",
       "      <th></th>\n",
       "      <th></th>\n",
       "      <th></th>\n",
       "      <th></th>\n",
       "      <th></th>\n",
       "      <th></th>\n",
       "      <th></th>\n",
       "      <th></th>\n",
       "      <th></th>\n",
       "      <th></th>\n",
       "      <th></th>\n",
       "      <th></th>\n",
       "      <th></th>\n",
       "      <th></th>\n",
       "      <th></th>\n",
       "    </tr>\n",
       "  </thead>\n",
       "  <tbody>\n",
       "    <tr>\n",
       "      <th>ARVERNE</th>\n",
       "      <td>129.217544</td>\n",
       "      <td>151.558095</td>\n",
       "      <td>178.093210</td>\n",
       "      <td>215.475000</td>\n",
       "      <td>14.316667</td>\n",
       "      <td>92.000000</td>\n",
       "      <td>108.887500</td>\n",
       "      <td>138.981897</td>\n",
       "      <td>137.233333</td>\n",
       "      <td>93.731818</td>\n",
       "      <td>...</td>\n",
       "      <td>119.543678</td>\n",
       "      <td>111.592857</td>\n",
       "      <td>62.0</td>\n",
       "      <td>41.516667</td>\n",
       "      <td>29.000</td>\n",
       "      <td>0.000000</td>\n",
       "      <td>0.000000</td>\n",
       "      <td>0.0</td>\n",
       "      <td>0.000000</td>\n",
       "      <td>0.0</td>\n",
       "    </tr>\n",
       "    <tr>\n",
       "      <th>ASTORIA</th>\n",
       "      <td>300.010133</td>\n",
       "      <td>288.967068</td>\n",
       "      <td>581.354986</td>\n",
       "      <td>174.155556</td>\n",
       "      <td>283.345238</td>\n",
       "      <td>845.704167</td>\n",
       "      <td>295.055208</td>\n",
       "      <td>290.003464</td>\n",
       "      <td>187.981748</td>\n",
       "      <td>121.333333</td>\n",
       "      <td>...</td>\n",
       "      <td>207.069819</td>\n",
       "      <td>210.550572</td>\n",
       "      <td>69.0</td>\n",
       "      <td>277.542593</td>\n",
       "      <td>296.125</td>\n",
       "      <td>104.358889</td>\n",
       "      <td>166.408333</td>\n",
       "      <td>352.2</td>\n",
       "      <td>324.610993</td>\n",
       "      <td>0.0</td>\n",
       "    </tr>\n",
       "    <tr>\n",
       "      <th>Astoria</th>\n",
       "      <td>0.000000</td>\n",
       "      <td>294.877730</td>\n",
       "      <td>374.169444</td>\n",
       "      <td>0.000000</td>\n",
       "      <td>0.000000</td>\n",
       "      <td>0.000000</td>\n",
       "      <td>0.000000</td>\n",
       "      <td>282.677387</td>\n",
       "      <td>212.513410</td>\n",
       "      <td>0.000000</td>\n",
       "      <td>...</td>\n",
       "      <td>222.793860</td>\n",
       "      <td>0.000000</td>\n",
       "      <td>0.0</td>\n",
       "      <td>0.000000</td>\n",
       "      <td>0.000</td>\n",
       "      <td>0.000000</td>\n",
       "      <td>0.000000</td>\n",
       "      <td>0.0</td>\n",
       "      <td>0.000000</td>\n",
       "      <td>0.0</td>\n",
       "    </tr>\n",
       "    <tr>\n",
       "      <th>BAYSIDE</th>\n",
       "      <td>196.470721</td>\n",
       "      <td>153.784306</td>\n",
       "      <td>201.586785</td>\n",
       "      <td>178.383333</td>\n",
       "      <td>114.000000</td>\n",
       "      <td>273.094444</td>\n",
       "      <td>172.533333</td>\n",
       "      <td>153.760019</td>\n",
       "      <td>134.020000</td>\n",
       "      <td>212.091667</td>\n",
       "      <td>...</td>\n",
       "      <td>91.860000</td>\n",
       "      <td>102.505208</td>\n",
       "      <td>0.0</td>\n",
       "      <td>0.000000</td>\n",
       "      <td>112.675</td>\n",
       "      <td>0.000000</td>\n",
       "      <td>0.000000</td>\n",
       "      <td>0.0</td>\n",
       "      <td>91.616667</td>\n",
       "      <td>0.0</td>\n",
       "    </tr>\n",
       "    <tr>\n",
       "      <th>BELLEROSE</th>\n",
       "      <td>763.480952</td>\n",
       "      <td>605.964737</td>\n",
       "      <td>1030.088577</td>\n",
       "      <td>111.000000</td>\n",
       "      <td>235.083333</td>\n",
       "      <td>0.000000</td>\n",
       "      <td>2348.000000</td>\n",
       "      <td>492.187579</td>\n",
       "      <td>404.446396</td>\n",
       "      <td>131.816667</td>\n",
       "      <td>...</td>\n",
       "      <td>544.093590</td>\n",
       "      <td>154.990000</td>\n",
       "      <td>449.0</td>\n",
       "      <td>452.483333</td>\n",
       "      <td>0.000</td>\n",
       "      <td>294.000000</td>\n",
       "      <td>400.000000</td>\n",
       "      <td>135.6</td>\n",
       "      <td>345.530952</td>\n",
       "      <td>0.0</td>\n",
       "    </tr>\n",
       "  </tbody>\n",
       "</table>\n",
       "<p>5 rows × 21 columns</p>\n",
       "</div>"
      ],
      "text/plain": [
       "Complaint Type  Animal Abuse  Blocked Driveway  Derelict Vehicle  \\\n",
       "City                                                               \n",
       "ARVERNE           129.217544        151.558095        178.093210   \n",
       "ASTORIA           300.010133        288.967068        581.354986   \n",
       "Astoria             0.000000        294.877730        374.169444   \n",
       "BAYSIDE           196.470721        153.784306        201.586785   \n",
       "BELLEROSE         763.480952        605.964737       1030.088577   \n",
       "\n",
       "Complaint Type  Disorderly Youth    Drinking    Graffiti  Homeless Encampment  \\\n",
       "City                                                                            \n",
       "ARVERNE               215.475000   14.316667   92.000000           108.887500   \n",
       "ASTORIA               174.155556  283.345238  845.704167           295.055208   \n",
       "Astoria                 0.000000    0.000000    0.000000             0.000000   \n",
       "BAYSIDE               178.383333  114.000000  273.094444           172.533333   \n",
       "BELLEROSE             111.000000  235.083333    0.000000          2348.000000   \n",
       "\n",
       "Complaint Type  Illegal Parking  Noise - Commercial  Noise - House of Worship  \\\n",
       "City                                                                            \n",
       "ARVERNE              138.981897          137.233333                 93.731818   \n",
       "ASTORIA              290.003464          187.981748                121.333333   \n",
       "Astoria              282.677387          212.513410                  0.000000   \n",
       "BAYSIDE              153.760019          134.020000                212.091667   \n",
       "BELLEROSE            492.187579          404.446396                131.816667   \n",
       "\n",
       "Complaint Type  ...  Noise - Street/Sidewalk  Noise - Vehicle  Panhandling  \\\n",
       "City            ...                                                          \n",
       "ARVERNE         ...               119.543678       111.592857         62.0   \n",
       "ASTORIA         ...               207.069819       210.550572         69.0   \n",
       "Astoria         ...               222.793860         0.000000          0.0   \n",
       "BAYSIDE         ...                91.860000       102.505208          0.0   \n",
       "BELLEROSE       ...               544.093590       154.990000        449.0   \n",
       "\n",
       "Complaint Type  Urinating in Public  Vending  Bike/Roller/Skate Chronic  \\\n",
       "City                                                                      \n",
       "ARVERNE                   41.516667   29.000                   0.000000   \n",
       "ASTORIA                  277.542593  296.125                 104.358889   \n",
       "Astoria                    0.000000    0.000                   0.000000   \n",
       "BAYSIDE                    0.000000  112.675                   0.000000   \n",
       "BELLEROSE                452.483333    0.000                 294.000000   \n",
       "\n",
       "Complaint Type  Illegal Fireworks  Posting Advertisement     Traffic  Squeegee  \n",
       "City                                                                            \n",
       "ARVERNE                  0.000000                    0.0    0.000000       0.0  \n",
       "ASTORIA                166.408333                  352.2  324.610993       0.0  \n",
       "Astoria                  0.000000                    0.0    0.000000       0.0  \n",
       "BAYSIDE                  0.000000                    0.0   91.616667       0.0  \n",
       "BELLEROSE              400.000000                  135.6  345.530952       0.0  \n",
       "\n",
       "[5 rows x 21 columns]"
      ]
     },
     "execution_count": 39,
     "metadata": {},
     "output_type": "execute_result"
    }
   ],
   "source": [
    "df9 = data.groupby(['City','Complaint Type'])['Request_Closing_Time_mins'].mean()\n",
    "df9.unstack().fillna(0).head()"
   ]
  },
  {
   "cell_type": "code",
   "execution_count": 40,
   "id": "e5ee1b65",
   "metadata": {
    "execution": {
     "iopub.execute_input": "2023-06-01T16:17:56.256510Z",
     "iopub.status.busy": "2023-06-01T16:17:56.255619Z",
     "iopub.status.idle": "2023-06-01T16:17:56.259060Z",
     "shell.execute_reply": "2023-06-01T16:17:56.258334Z",
     "shell.execute_reply.started": "2021-07-21T08:50:04.158413Z"
    },
    "papermill": {
     "duration": 0.088638,
     "end_time": "2023-06-01T16:17:56.259273",
     "exception": false,
     "start_time": "2023-06-01T16:17:56.170635",
     "status": "completed"
    },
    "tags": []
   },
   "outputs": [],
   "source": [
    "# Task 5: Perform a statistical test for the following:\n",
    "# Please note: For the below statements you need to state the Null \n",
    "# and Alternate and then provide a statistical test to accept or reject the Null Hypothesis along with the corresponding ‘p-value’.\n",
    "# Whether the average response time across complaint types is similar or not (overall)\n",
    "# Are the type of complaint or service requested and location related?"
   ]
  },
  {
   "cell_type": "code",
   "execution_count": 41,
   "id": "cf5ff9a1",
   "metadata": {
    "execution": {
     "iopub.execute_input": "2023-06-01T16:17:56.432871Z",
     "iopub.status.busy": "2023-06-01T16:17:56.431755Z",
     "iopub.status.idle": "2023-06-01T16:17:56.466757Z",
     "shell.execute_reply": "2023-06-01T16:17:56.466082Z",
     "shell.execute_reply.started": "2021-07-21T08:50:04.166863Z"
    },
    "papermill": {
     "duration": 0.126199,
     "end_time": "2023-06-01T16:17:56.466928",
     "exception": false,
     "start_time": "2023-06-01T16:17:56.340729",
     "status": "completed"
    },
    "tags": []
   },
   "outputs": [
    {
     "data": {
      "text/plain": [
       "array(['Noise - Street/Sidewalk', 'Blocked Driveway', 'Illegal Parking',\n",
       "       'Derelict Vehicle', 'Noise - Commercial',\n",
       "       'Noise - House of Worship', 'Posting Advertisement',\n",
       "       'Noise - Vehicle', 'Animal Abuse', 'Vending', 'Traffic',\n",
       "       'Drinking', 'Bike/Roller/Skate Chronic', 'Panhandling',\n",
       "       'Noise - Park', 'Homeless Encampment', 'Urinating in Public',\n",
       "       'Graffiti', 'Disorderly Youth', 'Illegal Fireworks',\n",
       "       'Ferry Complaint', 'Agency Issues', 'Squeegee'], dtype=object)"
      ]
     },
     "execution_count": 41,
     "metadata": {},
     "output_type": "execute_result"
    }
   ],
   "source": [
    "data['Complaint Type'].unique()"
   ]
  },
  {
   "cell_type": "code",
   "execution_count": 42,
   "id": "8dd949c6",
   "metadata": {
    "execution": {
     "iopub.execute_input": "2023-06-01T16:17:56.684407Z",
     "iopub.status.busy": "2023-06-01T16:17:56.683301Z",
     "iopub.status.idle": "2023-06-01T16:17:56.984942Z",
     "shell.execute_reply": "2023-06-01T16:17:56.984214Z",
     "shell.execute_reply.started": "2021-07-21T08:50:04.21338Z"
    },
    "papermill": {
     "duration": 0.437071,
     "end_time": "2023-06-01T16:17:56.985146",
     "exception": false,
     "start_time": "2023-06-01T16:17:56.548075",
     "status": "completed"
    },
    "tags": []
   },
   "outputs": [
    {
     "data": {
      "text/plain": [
       "<AxesSubplot:>"
      ]
     },
     "execution_count": 42,
     "metadata": {},
     "output_type": "execute_result"
    },
    {
     "data": {
      "image/png": "[encoded data removed]",
      "text/plain": [
       "<Figure size 432x288 with 1 Axes>"
      ]
     },
     "metadata": {
      "needs_background": "light"
     },
     "output_type": "display_data"
    }
   ],
   "source": [
    "# Since Blocked Driveway is the most frequent complaint I shall analyze that data\n",
    "df10= data[data['Complaint Type']== 'Blocked Driveway']['Request_Closing_Time_mins']\n",
    "df10.hist(range=(0,1500)) \n",
    "# The data is left skewed, needs to be converted to gaussian"
   ]
  },
  {
   "cell_type": "code",
   "execution_count": 43,
   "id": "f94de106",
   "metadata": {
    "execution": {
     "iopub.execute_input": "2023-06-01T16:17:57.153764Z",
     "iopub.status.busy": "2023-06-01T16:17:57.152969Z",
     "iopub.status.idle": "2023-06-01T16:17:57.470561Z",
     "shell.execute_reply": "2023-06-01T16:17:57.471247Z",
     "shell.execute_reply.started": "2021-07-21T08:50:04.535136Z"
    },
    "papermill": {
     "duration": 0.403674,
     "end_time": "2023-06-01T16:17:57.471450",
     "exception": false,
     "start_time": "2023-06-01T16:17:57.067776",
     "status": "completed"
    },
    "tags": []
   },
   "outputs": [
    {
     "data": {
      "text/plain": [
       "<AxesSubplot:>"
      ]
     },
     "execution_count": 43,
     "metadata": {},
     "output_type": "execute_result"
    },
    {
     "data": {
      "image/png": "[encoded data removed]",
      "text/plain": [
       "<Figure size 432x288 with 1 Axes>"
      ]
     },
     "metadata": {
      "needs_background": "light"
     },
     "output_type": "display_data"
    }
   ],
   "source": [
    "df11= data[data['Complaint Type']== 'Noise - Street/Sidewalk']['Request_Closing_Time_mins']\n",
    "df11.hist(range=(0,1500)) # Simiar result"
   ]
  },
  {
   "cell_type": "code",
   "execution_count": 44,
   "id": "b15eba6c",
   "metadata": {
    "execution": {
     "iopub.execute_input": "2023-06-01T16:17:57.645115Z",
     "iopub.status.busy": "2023-06-01T16:17:57.644372Z",
     "iopub.status.idle": "2023-06-01T16:17:59.240398Z",
     "shell.execute_reply": "2023-06-01T16:17:59.239429Z",
     "shell.execute_reply.started": "2021-07-21T08:50:04.825584Z"
    },
    "papermill": {
     "duration": 1.682693,
     "end_time": "2023-06-01T16:17:59.240605",
     "exception": false,
     "start_time": "2023-06-01T16:17:57.557912",
     "status": "completed"
    },
    "tags": []
   },
   "outputs": [],
   "source": [
    "# Applying log transformation\n",
    "dataset={}\n",
    "for i in data['Complaint Type'].unique():\n",
    "    dataset[i]= np.log(data[data['Complaint Type']==i]['Request_Closing_Time_mins'])"
   ]
  },
  {
   "cell_type": "code",
   "execution_count": 45,
   "id": "82ad9e8e",
   "metadata": {
    "execution": {
     "iopub.execute_input": "2023-06-01T16:17:59.419463Z",
     "iopub.status.busy": "2023-06-01T16:17:59.418494Z",
     "iopub.status.idle": "2023-06-01T16:17:59.422149Z",
     "shell.execute_reply": "2023-06-01T16:17:59.422825Z",
     "shell.execute_reply.started": "2021-07-21T08:50:06.30355Z"
    },
    "papermill": {
     "duration": 0.094154,
     "end_time": "2023-06-01T16:17:59.423015",
     "exception": false,
     "start_time": "2023-06-01T16:17:59.328861",
     "status": "completed"
    },
    "tags": []
   },
   "outputs": [
    {
     "data": {
      "text/plain": [
       "dict_keys(['Noise - Street/Sidewalk', 'Blocked Driveway', 'Illegal Parking', 'Derelict Vehicle', 'Noise - Commercial', 'Noise - House of Worship', 'Posting Advertisement', 'Noise - Vehicle', 'Animal Abuse', 'Vending', 'Traffic', 'Drinking', 'Bike/Roller/Skate Chronic', 'Panhandling', 'Noise - Park', 'Homeless Encampment', 'Urinating in Public', 'Graffiti', 'Disorderly Youth', 'Illegal Fireworks', 'Ferry Complaint', 'Agency Issues', 'Squeegee'])"
      ]
     },
     "execution_count": 45,
     "metadata": {},
     "output_type": "execute_result"
    }
   ],
   "source": [
    "dataset.keys()"
   ]
  },
  {
   "cell_type": "code",
   "execution_count": 46,
   "id": "f5b737e3",
   "metadata": {
    "execution": {
     "iopub.execute_input": "2023-06-01T16:17:59.621591Z",
     "iopub.status.busy": "2023-06-01T16:17:59.620803Z",
     "iopub.status.idle": "2023-06-01T16:17:59.809967Z",
     "shell.execute_reply": "2023-06-01T16:17:59.808953Z",
     "shell.execute_reply.started": "2021-07-21T08:50:06.311657Z"
    },
    "papermill": {
     "duration": 0.302476,
     "end_time": "2023-06-01T16:17:59.810168",
     "exception": false,
     "start_time": "2023-06-01T16:17:59.507692",
     "status": "completed"
    },
    "tags": []
   },
   "outputs": [
    {
     "data": {
      "text/plain": [
       "<AxesSubplot:>"
      ]
     },
     "execution_count": 46,
     "metadata": {},
     "output_type": "execute_result"
    },
    {
     "data": {
      "image/png": "[encoded data removed]",
      "text/plain": [
       "<Figure size 432x288 with 1 Axes>"
      ]
     },
     "metadata": {
      "needs_background": "light"
     },
     "output_type": "display_data"
    }
   ],
   "source": [
    "dataset['Blocked Driveway'].hist()"
   ]
  },
  {
   "cell_type": "code",
   "execution_count": 47,
   "id": "d0ecd451",
   "metadata": {
    "execution": {
     "iopub.execute_input": "2023-06-01T16:18:00.006748Z",
     "iopub.status.busy": "2023-06-01T16:17:59.990572Z",
     "iopub.status.idle": "2023-06-01T16:18:00.196059Z",
     "shell.execute_reply": "2023-06-01T16:18:00.195232Z",
     "shell.execute_reply.started": "2021-07-21T08:50:06.52877Z"
    },
    "papermill": {
     "duration": 0.299866,
     "end_time": "2023-06-01T16:18:00.196271",
     "exception": false,
     "start_time": "2023-06-01T16:17:59.896405",
     "status": "completed"
    },
    "tags": []
   },
   "outputs": [
    {
     "data": {
      "text/plain": [
       "<AxesSubplot:>"
      ]
     },
     "execution_count": 47,
     "metadata": {},
     "output_type": "execute_result"
    },
    {
     "data": {
      "image/png": "[encoded data removed]",
      "text/plain": [
       "<Figure size 432x288 with 1 Axes>"
      ]
     },
     "metadata": {
      "needs_background": "light"
     },
     "output_type": "display_data"
    }
   ],
   "source": [
    "dataset['Noise - Street/Sidewalk'].hist()"
   ]
  },
  {
   "cell_type": "code",
   "execution_count": 48,
   "id": "d8cdd84d",
   "metadata": {
    "execution": {
     "iopub.execute_input": "2023-06-01T16:18:00.393251Z",
     "iopub.status.busy": "2023-06-01T16:18:00.392053Z",
     "iopub.status.idle": "2023-06-01T16:18:00.395042Z",
     "shell.execute_reply": "2023-06-01T16:18:00.395664Z",
     "shell.execute_reply.started": "2021-07-21T08:50:06.723783Z"
    },
    "papermill": {
     "duration": 0.112845,
     "end_time": "2023-06-01T16:18:00.395861",
     "exception": false,
     "start_time": "2023-06-01T16:18:00.283016",
     "status": "completed"
    },
    "tags": []
   },
   "outputs": [],
   "source": [
    "# ANOVA Analysis (Checking for top 5 complaints)\n",
    "#1. Null Hypothesis: The average response time across complaint types is not different\n",
    "# Alternate Hypothesis: The average response time across complaint types is different"
   ]
  },
  {
   "cell_type": "code",
   "execution_count": 49,
   "id": "11163ee3",
   "metadata": {
    "execution": {
     "iopub.execute_input": "2023-06-01T16:18:00.574467Z",
     "iopub.status.busy": "2023-06-01T16:18:00.573425Z",
     "iopub.status.idle": "2023-06-01T16:18:00.584734Z",
     "shell.execute_reply": "2023-06-01T16:18:00.583942Z",
     "shell.execute_reply.started": "2021-07-21T08:50:06.728606Z"
    },
    "papermill": {
     "duration": 0.1015,
     "end_time": "2023-06-01T16:18:00.584902",
     "exception": false,
     "start_time": "2023-06-01T16:18:00.483402",
     "status": "completed"
    },
    "tags": []
   },
   "outputs": [
    {
     "name": "stdout",
     "output_type": "stream",
     "text": [
      "Null hypothesis is rejected\n"
     ]
    }
   ],
   "source": [
    "from scipy.stats import f_oneway\n",
    "stat,p = f_oneway(dataset['Noise - Street/Sidewalk'], dataset['Blocked Driveway'], dataset['Illegal Parking'], dataset['Derelict Vehicle'], \n",
    "                dataset['Noise - Commercial'])\n",
    "\n",
    "alpha=0.05\n",
    "if p>0.05:\n",
    "    print('Null Hypothesis is accepted')\n",
    "else:\n",
    "    print('Null hypothesis is rejected')"
   ]
  },
  {
   "cell_type": "code",
   "execution_count": 50,
   "id": "c1f243f6",
   "metadata": {
    "execution": {
     "iopub.execute_input": "2023-06-01T16:18:00.762404Z",
     "iopub.status.busy": "2023-06-01T16:18:00.761647Z",
     "iopub.status.idle": "2023-06-01T16:18:00.763584Z",
     "shell.execute_reply": "2023-06-01T16:18:00.764290Z",
     "shell.execute_reply.started": "2021-07-21T08:50:06.760201Z"
    },
    "papermill": {
     "duration": 0.092406,
     "end_time": "2023-06-01T16:18:00.764476",
     "exception": false,
     "start_time": "2023-06-01T16:18:00.672070",
     "status": "completed"
    },
    "tags": []
   },
   "outputs": [],
   "source": [
    "# 2.Are the type of complaint or service requested and location related?"
   ]
  },
  {
   "cell_type": "code",
   "execution_count": 51,
   "id": "36827864",
   "metadata": {
    "execution": {
     "iopub.execute_input": "2023-06-01T16:18:00.942049Z",
     "iopub.status.busy": "2023-06-01T16:18:00.941171Z",
     "iopub.status.idle": "2023-06-01T16:18:00.959413Z",
     "shell.execute_reply": "2023-06-01T16:18:00.960264Z",
     "shell.execute_reply.started": "2021-07-21T08:50:06.770417Z"
    },
    "papermill": {
     "duration": 0.109709,
     "end_time": "2023-06-01T16:18:00.960495",
     "exception": false,
     "start_time": "2023-06-01T16:18:00.850786",
     "status": "completed"
    },
    "tags": []
   },
   "outputs": [],
   "source": [
    "df11= data[['Complaint Type','Location','Latitude','Longitude','City','Borough']]"
   ]
  },
  {
   "cell_type": "code",
   "execution_count": 52,
   "id": "167a43bd",
   "metadata": {
    "execution": {
     "iopub.execute_input": "2023-06-01T16:18:01.138205Z",
     "iopub.status.busy": "2023-06-01T16:18:01.137181Z",
     "iopub.status.idle": "2023-06-01T16:18:01.152750Z",
     "shell.execute_reply": "2023-06-01T16:18:01.153373Z",
     "shell.execute_reply.started": "2021-07-21T08:50:06.798255Z"
    },
    "papermill": {
     "duration": 0.105742,
     "end_time": "2023-06-01T16:18:01.153565",
     "exception": false,
     "start_time": "2023-06-01T16:18:01.047823",
     "status": "completed"
    },
    "tags": []
   },
   "outputs": [
    {
     "data": {
      "text/html": [
       "<div>\n",
       "<style scoped>\n",
       "    .dataframe tbody tr th:only-of-type {\n",
       "        vertical-align: middle;\n",
       "    }\n",
       "\n",
       "    .dataframe tbody tr th {\n",
       "        vertical-align: top;\n",
       "    }\n",
       "\n",
       "    .dataframe thead th {\n",
       "        text-align: right;\n",
       "    }\n",
       "</style>\n",
       "<table border=\"1\" class=\"dataframe\">\n",
       "  <thead>\n",
       "    <tr style=\"text-align: right;\">\n",
       "      <th></th>\n",
       "      <th>Complaint Type</th>\n",
       "      <th>Location</th>\n",
       "      <th>Latitude</th>\n",
       "      <th>Longitude</th>\n",
       "      <th>City</th>\n",
       "      <th>Borough</th>\n",
       "    </tr>\n",
       "  </thead>\n",
       "  <tbody>\n",
       "    <tr>\n",
       "      <th>0</th>\n",
       "      <td>Noise - Street/Sidewalk</td>\n",
       "      <td>(40.86568153633767, -73.92350095571744)</td>\n",
       "      <td>40.865682</td>\n",
       "      <td>-73.923501</td>\n",
       "      <td>NEW YORK</td>\n",
       "      <td>MANHATTAN</td>\n",
       "    </tr>\n",
       "    <tr>\n",
       "      <th>1</th>\n",
       "      <td>Blocked Driveway</td>\n",
       "      <td>(40.775945312321085, -73.91509393898605)</td>\n",
       "      <td>40.775945</td>\n",
       "      <td>-73.915094</td>\n",
       "      <td>ASTORIA</td>\n",
       "      <td>QUEENS</td>\n",
       "    </tr>\n",
       "    <tr>\n",
       "      <th>2</th>\n",
       "      <td>Blocked Driveway</td>\n",
       "      <td>(40.870324522111424, -73.88852464418646)</td>\n",
       "      <td>40.870325</td>\n",
       "      <td>-73.888525</td>\n",
       "      <td>BRONX</td>\n",
       "      <td>BRONX</td>\n",
       "    </tr>\n",
       "    <tr>\n",
       "      <th>3</th>\n",
       "      <td>Illegal Parking</td>\n",
       "      <td>(40.83599404683083, -73.82837939584206)</td>\n",
       "      <td>40.835994</td>\n",
       "      <td>-73.828379</td>\n",
       "      <td>BRONX</td>\n",
       "      <td>BRONX</td>\n",
       "    </tr>\n",
       "    <tr>\n",
       "      <th>4</th>\n",
       "      <td>Illegal Parking</td>\n",
       "      <td>(40.733059618956815, -73.87416975810375)</td>\n",
       "      <td>40.733060</td>\n",
       "      <td>-73.874170</td>\n",
       "      <td>ELMHURST</td>\n",
       "      <td>QUEENS</td>\n",
       "    </tr>\n",
       "  </tbody>\n",
       "</table>\n",
       "</div>"
      ],
      "text/plain": [
       "            Complaint Type                                  Location  \\\n",
       "0  Noise - Street/Sidewalk   (40.86568153633767, -73.92350095571744)   \n",
       "1         Blocked Driveway  (40.775945312321085, -73.91509393898605)   \n",
       "2         Blocked Driveway  (40.870324522111424, -73.88852464418646)   \n",
       "3          Illegal Parking   (40.83599404683083, -73.82837939584206)   \n",
       "4          Illegal Parking  (40.733059618956815, -73.87416975810375)   \n",
       "\n",
       "    Latitude  Longitude      City    Borough  \n",
       "0  40.865682 -73.923501  NEW YORK  MANHATTAN  \n",
       "1  40.775945 -73.915094   ASTORIA     QUEENS  \n",
       "2  40.870325 -73.888525     BRONX      BRONX  \n",
       "3  40.835994 -73.828379     BRONX      BRONX  \n",
       "4  40.733060 -73.874170  ELMHURST     QUEENS  "
      ]
     },
     "execution_count": 52,
     "metadata": {},
     "output_type": "execute_result"
    }
   ],
   "source": [
    "df11.head()"
   ]
  },
  {
   "cell_type": "code",
   "execution_count": 53,
   "id": "fe11ea14",
   "metadata": {
    "execution": {
     "iopub.execute_input": "2023-06-01T16:18:01.331734Z",
     "iopub.status.busy": "2023-06-01T16:18:01.330666Z",
     "iopub.status.idle": "2023-06-01T16:18:01.482012Z",
     "shell.execute_reply": "2023-06-01T16:18:01.481048Z",
     "shell.execute_reply.started": "2021-07-21T08:50:06.815612Z"
    },
    "papermill": {
     "duration": 0.241893,
     "end_time": "2023-06-01T16:18:01.482195",
     "exception": false,
     "start_time": "2023-06-01T16:18:01.240302",
     "status": "completed"
    },
    "tags": []
   },
   "outputs": [
    {
     "name": "stderr",
     "output_type": "stream",
     "text": [
      "/opt/conda/lib/python3.7/site-packages/ipykernel_launcher.py:1: SettingWithCopyWarning: \n",
      "A value is trying to be set on a copy of a slice from a DataFrame.\n",
      "Try using .loc[row_indexer,col_indexer] = value instead\n",
      "\n",
      "See the caveats in the documentation: https://pandas.pydata.org/pandas-docs/stable/user_guide/indexing.html#returning-a-view-versus-a-copy\n",
      "  \"\"\"Entry point for launching an IPython kernel.\n",
      "/opt/conda/lib/python3.7/site-packages/ipykernel_launcher.py:2: SettingWithCopyWarning: \n",
      "A value is trying to be set on a copy of a slice from a DataFrame.\n",
      "Try using .loc[row_indexer,col_indexer] = value instead\n",
      "\n",
      "See the caveats in the documentation: https://pandas.pydata.org/pandas-docs/stable/user_guide/indexing.html#returning-a-view-versus-a-copy\n",
      "  \n",
      "/opt/conda/lib/python3.7/site-packages/ipykernel_launcher.py:3: SettingWithCopyWarning: \n",
      "A value is trying to be set on a copy of a slice from a DataFrame.\n",
      "Try using .loc[row_indexer,col_indexer] = value instead\n",
      "\n",
      "See the caveats in the documentation: https://pandas.pydata.org/pandas-docs/stable/user_guide/indexing.html#returning-a-view-versus-a-copy\n",
      "  This is separate from the ipykernel package so we can avoid doing imports until\n"
     ]
    }
   ],
   "source": [
    "df11['Complaint Type']=df11['Complaint Type'].astype('category').cat.codes\n",
    "df11['City']= df11['City'].astype('category').cat.codes\n",
    "df11['Borough']= df11['Borough'].astype('category').cat.codes"
   ]
  },
  {
   "cell_type": "code",
   "execution_count": 54,
   "id": "cddd63ba",
   "metadata": {
    "execution": {
     "iopub.execute_input": "2023-06-01T16:18:01.662925Z",
     "iopub.status.busy": "2023-06-01T16:18:01.662127Z",
     "iopub.status.idle": "2023-06-01T16:18:01.676035Z",
     "shell.execute_reply": "2023-06-01T16:18:01.676696Z",
     "shell.execute_reply.started": "2021-07-21T08:50:06.948266Z"
    },
    "papermill": {
     "duration": 0.105442,
     "end_time": "2023-06-01T16:18:01.676927",
     "exception": false,
     "start_time": "2023-06-01T16:18:01.571485",
     "status": "completed"
    },
    "tags": []
   },
   "outputs": [
    {
     "data": {
      "text/html": [
       "<div>\n",
       "<style scoped>\n",
       "    .dataframe tbody tr th:only-of-type {\n",
       "        vertical-align: middle;\n",
       "    }\n",
       "\n",
       "    .dataframe tbody tr th {\n",
       "        vertical-align: top;\n",
       "    }\n",
       "\n",
       "    .dataframe thead th {\n",
       "        text-align: right;\n",
       "    }\n",
       "</style>\n",
       "<table border=\"1\" class=\"dataframe\">\n",
       "  <thead>\n",
       "    <tr style=\"text-align: right;\">\n",
       "      <th></th>\n",
       "      <th>Complaint Type</th>\n",
       "      <th>Location</th>\n",
       "      <th>Latitude</th>\n",
       "      <th>Longitude</th>\n",
       "      <th>City</th>\n",
       "      <th>Borough</th>\n",
       "    </tr>\n",
       "  </thead>\n",
       "  <tbody>\n",
       "    <tr>\n",
       "      <th>0</th>\n",
       "      <td>15</td>\n",
       "      <td>(40.86568153633767, -73.92350095571744)</td>\n",
       "      <td>40.865682</td>\n",
       "      <td>-73.923501</td>\n",
       "      <td>33</td>\n",
       "      <td>2</td>\n",
       "    </tr>\n",
       "    <tr>\n",
       "      <th>1</th>\n",
       "      <td>3</td>\n",
       "      <td>(40.775945312321085, -73.91509393898605)</td>\n",
       "      <td>40.775945</td>\n",
       "      <td>-73.915094</td>\n",
       "      <td>1</td>\n",
       "      <td>3</td>\n",
       "    </tr>\n",
       "    <tr>\n",
       "      <th>2</th>\n",
       "      <td>3</td>\n",
       "      <td>(40.870324522111424, -73.88852464418646)</td>\n",
       "      <td>40.870325</td>\n",
       "      <td>-73.888525</td>\n",
       "      <td>6</td>\n",
       "      <td>0</td>\n",
       "    </tr>\n",
       "    <tr>\n",
       "      <th>3</th>\n",
       "      <td>11</td>\n",
       "      <td>(40.83599404683083, -73.82837939584206)</td>\n",
       "      <td>40.835994</td>\n",
       "      <td>-73.828379</td>\n",
       "      <td>6</td>\n",
       "      <td>0</td>\n",
       "    </tr>\n",
       "    <tr>\n",
       "      <th>4</th>\n",
       "      <td>11</td>\n",
       "      <td>(40.733059618956815, -73.87416975810375)</td>\n",
       "      <td>40.733060</td>\n",
       "      <td>-73.874170</td>\n",
       "      <td>13</td>\n",
       "      <td>3</td>\n",
       "    </tr>\n",
       "  </tbody>\n",
       "</table>\n",
       "</div>"
      ],
      "text/plain": [
       "   Complaint Type                                  Location   Latitude  \\\n",
       "0              15   (40.86568153633767, -73.92350095571744)  40.865682   \n",
       "1               3  (40.775945312321085, -73.91509393898605)  40.775945   \n",
       "2               3  (40.870324522111424, -73.88852464418646)  40.870325   \n",
       "3              11   (40.83599404683083, -73.82837939584206)  40.835994   \n",
       "4              11  (40.733059618956815, -73.87416975810375)  40.733060   \n",
       "\n",
       "   Longitude  City  Borough  \n",
       "0 -73.923501    33        2  \n",
       "1 -73.915094     1        3  \n",
       "2 -73.888525     6        0  \n",
       "3 -73.828379     6        0  \n",
       "4 -73.874170    13        3  "
      ]
     },
     "execution_count": 54,
     "metadata": {},
     "output_type": "execute_result"
    }
   ],
   "source": [
    "df11.head()"
   ]
  },
  {
   "cell_type": "code",
   "execution_count": 55,
   "id": "ad978fc8",
   "metadata": {
    "execution": {
     "iopub.execute_input": "2023-06-01T16:18:01.863525Z",
     "iopub.status.busy": "2023-06-01T16:18:01.860961Z",
     "iopub.status.idle": "2023-06-01T16:18:01.908554Z",
     "shell.execute_reply": "2023-06-01T16:18:01.907894Z",
     "shell.execute_reply.started": "2021-07-21T08:50:06.965899Z"
    },
    "papermill": {
     "duration": 0.140851,
     "end_time": "2023-06-01T16:18:01.908746",
     "exception": false,
     "start_time": "2023-06-01T16:18:01.767895",
     "status": "completed"
    },
    "tags": []
   },
   "outputs": [
    {
     "data": {
      "text/html": [
       "<div>\n",
       "<style scoped>\n",
       "    .dataframe tbody tr th:only-of-type {\n",
       "        vertical-align: middle;\n",
       "    }\n",
       "\n",
       "    .dataframe tbody tr th {\n",
       "        vertical-align: top;\n",
       "    }\n",
       "\n",
       "    .dataframe thead th {\n",
       "        text-align: right;\n",
       "    }\n",
       "</style>\n",
       "<table border=\"1\" class=\"dataframe\">\n",
       "  <thead>\n",
       "    <tr style=\"text-align: right;\">\n",
       "      <th></th>\n",
       "      <th>Complaint Type</th>\n",
       "      <th>Latitude</th>\n",
       "      <th>Longitude</th>\n",
       "      <th>City</th>\n",
       "      <th>Borough</th>\n",
       "    </tr>\n",
       "  </thead>\n",
       "  <tbody>\n",
       "    <tr>\n",
       "      <th>Complaint Type</th>\n",
       "      <td>1.000000</td>\n",
       "      <td>0.151318</td>\n",
       "      <td>-0.185947</td>\n",
       "      <td>0.092497</td>\n",
       "      <td>-0.058457</td>\n",
       "    </tr>\n",
       "    <tr>\n",
       "      <th>Latitude</th>\n",
       "      <td>0.151318</td>\n",
       "      <td>1.000000</td>\n",
       "      <td>0.364966</td>\n",
       "      <td>-0.000571</td>\n",
       "      <td>-0.249501</td>\n",
       "    </tr>\n",
       "    <tr>\n",
       "      <th>Longitude</th>\n",
       "      <td>-0.185947</td>\n",
       "      <td>0.364966</td>\n",
       "      <td>1.000000</td>\n",
       "      <td>-0.123933</td>\n",
       "      <td>0.021277</td>\n",
       "    </tr>\n",
       "    <tr>\n",
       "      <th>City</th>\n",
       "      <td>0.092497</td>\n",
       "      <td>-0.000571</td>\n",
       "      <td>-0.123933</td>\n",
       "      <td>1.000000</td>\n",
       "      <td>0.654636</td>\n",
       "    </tr>\n",
       "    <tr>\n",
       "      <th>Borough</th>\n",
       "      <td>-0.058457</td>\n",
       "      <td>-0.249501</td>\n",
       "      <td>0.021277</td>\n",
       "      <td>0.654636</td>\n",
       "      <td>1.000000</td>\n",
       "    </tr>\n",
       "  </tbody>\n",
       "</table>\n",
       "</div>"
      ],
      "text/plain": [
       "                Complaint Type  Latitude  Longitude      City   Borough\n",
       "Complaint Type        1.000000  0.151318  -0.185947  0.092497 -0.058457\n",
       "Latitude              0.151318  1.000000   0.364966 -0.000571 -0.249501\n",
       "Longitude            -0.185947  0.364966   1.000000 -0.123933  0.021277\n",
       "City                  0.092497 -0.000571  -0.123933  1.000000  0.654636\n",
       "Borough              -0.058457 -0.249501   0.021277  0.654636  1.000000"
      ]
     },
     "execution_count": 55,
     "metadata": {},
     "output_type": "execute_result"
    }
   ],
   "source": [
    "df11.corr(method='pearson') # From the first line it can be seen that the complaint types does not depend upon the location"
   ]
  }
 ],
 "metadata": {
  "kernelspec": {
   "display_name": "Python 3",
   "language": "python",
   "name": "python3"
  },
  "language_info": {
   "codemirror_mode": {
    "name": "ipython",
    "version": 3
   },
   "file_extension": ".py",
   "mimetype": "text/x-python",
   "name": "python",
   "nbconvert_exporter": "python",
   "pygments_lexer": "ipython3",
   "version": "3.7.10"
  },
  "papermill": {
   "default_parameters": {},
   "duration": 132.998916,
   "end_time": "2023-06-01T16:18:03.858200",
   "environment_variables": {},
   "exception": null,
   "input_path": "__notebook__.ipynb",
   "output_path": "__notebook__.ipynb",
   "parameters": {},
   "start_time": "2023-06-01T16:15:50.859284",
   "version": "2.3.3"
  }
 },
 "nbformat": 4,
 "nbformat_minor": 5
}
